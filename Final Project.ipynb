{
 "cells": [
  {
   "cell_type": "markdown",
   "id": "f868e3b3-1e3e-4989-a2fb-a72b9dffcc1f",
   "metadata": {},
   "source": [
    "Final Project Kevin Shi"
   ]
  },
  {
   "cell_type": "code",
   "execution_count": 1,
   "id": "b6fea7a8-638e-4829-95d8-1c0333ba3a03",
   "metadata": {},
   "outputs": [],
   "source": [
    "# Set up\n",
    "import pandas as pd\n",
    "import os\n",
    "import re\n",
    "import numpy as np\n",
    "import torch\n",
    "import torch.nn as nn\n",
    "import keras\n",
    "from collections import Counter\n",
    "from torch.utils.data import TensorDataset, Dataset, DataLoader\n",
    "from torch.nn.utils.rnn import pad_sequence\n",
    "import torch.optim as optim\n",
    "from tqdm import tqdm\n",
    "import medspacy\n",
    "import re\n",
    "from transformers import pipeline"
   ]
  },
  {
   "cell_type": "code",
   "execution_count": 277,
   "id": "95a46024-ba07-4ace-bc26-2e711706402f",
   "metadata": {},
   "outputs": [
    {
     "name": "stdout",
     "output_type": "stream",
     "text": [
      "Collecting scipy==1.10.1\n",
      "  Downloading scipy-1.10.1-cp39-cp39-win_amd64.whl.metadata (58 kB)\n",
      "Requirement already satisfied: numpy<1.27.0,>=1.19.5 in c:\\users\\kevxs\\anaconda3\\lib\\site-packages (from scipy==1.10.1) (1.26.4)\n",
      "Downloading scipy-1.10.1-cp39-cp39-win_amd64.whl (42.5 MB)\n",
      "   ---------------------------------------- 0.0/42.5 MB ? eta -:--:--\n",
      "   ------ --------------------------------- 7.3/42.5 MB 45.4 MB/s eta 0:00:01\n",
      "   ------- -------------------------------- 8.4/42.5 MB 32.5 MB/s eta 0:00:02\n",
      "   ----------- ---------------------------- 12.6/42.5 MB 22.6 MB/s eta 0:00:02\n",
      "   ---------------- ----------------------- 17.8/42.5 MB 23.0 MB/s eta 0:00:02\n",
      "   -------------------- ------------------- 22.0/42.5 MB 22.5 MB/s eta 0:00:01\n",
      "   ------------------------- -------------- 27.3/42.5 MB 22.4 MB/s eta 0:00:01\n",
      "   --------------------------- ------------ 29.4/42.5 MB 21.4 MB/s eta 0:00:01\n",
      "   ----------------------------------- ---- 37.7/42.5 MB 24.0 MB/s eta 0:00:01\n",
      "   ---------------------------------------  42.5/42.5 MB 23.5 MB/s eta 0:00:01\n",
      "   ---------------------------------------- 42.5/42.5 MB 22.7 MB/s eta 0:00:00\n",
      "Installing collected packages: scipy\n",
      "  Attempting uninstall: scipy\n",
      "    Found existing installation: scipy 1.13.1\n",
      "    Uninstalling scipy-1.13.1:\n",
      "      Successfully uninstalled scipy-1.13.1\n",
      "Successfully installed scipy-1.10.1\n"
     ]
    },
    {
     "name": "stderr",
     "output_type": "stream",
     "text": [
      "ERROR: pip's dependency resolver does not currently take into account all the packages that are installed. This behaviour is the source of the following dependency conflicts.\n",
      "wfdb 4.3.0 requires scipy>=1.13.0, but you have scipy 1.10.1 which is incompatible.\n"
     ]
    },
    {
     "ename": "ImportError",
     "evalue": "cannot import name 'gaussian' from 'scipy.signal' (C:\\Users\\kevxs\\anaconda3\\lib\\site-packages\\scipy\\signal\\__init__.py)",
     "output_type": "error",
     "traceback": [
      "\u001b[1;31m---------------------------------------------------------------------------\u001b[0m",
      "\u001b[1;31mImportError\u001b[0m                               Traceback (most recent call last)",
      "Cell \u001b[1;32mIn[277], line 2\u001b[0m\n\u001b[0;32m      1\u001b[0m get_ipython()\u001b[38;5;241m.\u001b[39msystem(\u001b[38;5;124m'\u001b[39m\u001b[38;5;124mpip install scipy==1.10.1\u001b[39m\u001b[38;5;124m'\u001b[39m)\n\u001b[1;32m----> 2\u001b[0m \u001b[38;5;28;01mimport\u001b[39;00m \u001b[38;5;21;01mbambi\u001b[39;00m \u001b[38;5;28;01mas\u001b[39;00m \u001b[38;5;21;01mbmb\u001b[39;00m\n\u001b[0;32m      3\u001b[0m \u001b[38;5;28;01mimport\u001b[39;00m \u001b[38;5;21;01marviz\u001b[39;00m \u001b[38;5;28;01mas\u001b[39;00m \u001b[38;5;21;01maz\u001b[39;00m\n",
      "File \u001b[1;32m~\\anaconda3\\lib\\site-packages\\bambi\\__init__.py:3\u001b[0m\n\u001b[0;32m      1\u001b[0m \u001b[38;5;28;01mimport\u001b[39;00m \u001b[38;5;21;01mlogging\u001b[39;00m\n\u001b[1;32m----> 3\u001b[0m \u001b[38;5;28;01mfrom\u001b[39;00m \u001b[38;5;21;01mpymc\u001b[39;00m \u001b[38;5;28;01mimport\u001b[39;00m math\n\u001b[0;32m      5\u001b[0m \u001b[38;5;28;01mfrom\u001b[39;00m \u001b[38;5;21;01m.\u001b[39;00m\u001b[38;5;21;01mbackend\u001b[39;00m \u001b[38;5;28;01mimport\u001b[39;00m PyMCModel\n\u001b[0;32m      6\u001b[0m \u001b[38;5;28;01mfrom\u001b[39;00m \u001b[38;5;21;01m.\u001b[39;00m\u001b[38;5;21;01mdata\u001b[39;00m \u001b[38;5;28;01mimport\u001b[39;00m clear_data_home, load_data\n",
      "File \u001b[1;32m~\\anaconda3\\lib\\site-packages\\pymc\\__init__.py:48\u001b[0m\n\u001b[0;32m     43\u001b[0m     pytensor\u001b[38;5;241m.\u001b[39mconfig\u001b[38;5;241m.\u001b[39mgcc__cxxflags \u001b[38;5;241m=\u001b[39m augmented\n\u001b[0;32m     46\u001b[0m __set_compiler_flags()\n\u001b[1;32m---> 48\u001b[0m \u001b[38;5;28;01mfrom\u001b[39;00m \u001b[38;5;21;01mpymc\u001b[39;00m \u001b[38;5;28;01mimport\u001b[39;00m _version, gp, ode, sampling\n\u001b[0;32m     49\u001b[0m \u001b[38;5;28;01mfrom\u001b[39;00m \u001b[38;5;21;01mpymc\u001b[39;00m\u001b[38;5;21;01m.\u001b[39;00m\u001b[38;5;21;01mbackends\u001b[39;00m \u001b[38;5;28;01mimport\u001b[39;00m \u001b[38;5;241m*\u001b[39m\n\u001b[0;32m     50\u001b[0m \u001b[38;5;28;01mfrom\u001b[39;00m \u001b[38;5;21;01mpymc\u001b[39;00m\u001b[38;5;21;01m.\u001b[39;00m\u001b[38;5;21;01mblocking\u001b[39;00m \u001b[38;5;28;01mimport\u001b[39;00m \u001b[38;5;241m*\u001b[39m\n",
      "File \u001b[1;32m~\\anaconda3\\lib\\site-packages\\pymc\\gp\\__init__.py:15\u001b[0m\n\u001b[0;32m      1\u001b[0m \u001b[38;5;66;03m#   Copyright 2024 The PyMC Developers\u001b[39;00m\n\u001b[0;32m      2\u001b[0m \u001b[38;5;66;03m#\u001b[39;00m\n\u001b[0;32m      3\u001b[0m \u001b[38;5;66;03m#   Licensed under the Apache License, Version 2.0 (the \"License\");\u001b[39;00m\n\u001b[1;32m   (...)\u001b[0m\n\u001b[0;32m     12\u001b[0m \u001b[38;5;66;03m#   See the License for the specific language governing permissions and\u001b[39;00m\n\u001b[0;32m     13\u001b[0m \u001b[38;5;66;03m#   limitations under the License.\u001b[39;00m\n\u001b[1;32m---> 15\u001b[0m \u001b[38;5;28;01mfrom\u001b[39;00m \u001b[38;5;21;01mpymc\u001b[39;00m\u001b[38;5;21;01m.\u001b[39;00m\u001b[38;5;21;01mgp\u001b[39;00m \u001b[38;5;28;01mimport\u001b[39;00m cov, mean, util\n\u001b[0;32m     16\u001b[0m \u001b[38;5;28;01mfrom\u001b[39;00m \u001b[38;5;21;01mpymc\u001b[39;00m\u001b[38;5;21;01m.\u001b[39;00m\u001b[38;5;21;01mgp\u001b[39;00m\u001b[38;5;21;01m.\u001b[39;00m\u001b[38;5;21;01mgp\u001b[39;00m \u001b[38;5;28;01mimport\u001b[39;00m (\n\u001b[0;32m     17\u001b[0m     TP,\n\u001b[0;32m     18\u001b[0m     Latent,\n\u001b[1;32m   (...)\u001b[0m\n\u001b[0;32m     23\u001b[0m     MarginalSparse,\n\u001b[0;32m     24\u001b[0m )\n\u001b[0;32m     25\u001b[0m \u001b[38;5;28;01mfrom\u001b[39;00m \u001b[38;5;21;01mpymc\u001b[39;00m\u001b[38;5;21;01m.\u001b[39;00m\u001b[38;5;21;01mgp\u001b[39;00m\u001b[38;5;21;01m.\u001b[39;00m\u001b[38;5;21;01mhsgp_approx\u001b[39;00m \u001b[38;5;28;01mimport\u001b[39;00m HSGP, HSGPPeriodic\n",
      "File \u001b[1;32m~\\anaconda3\\lib\\site-packages\\pymc\\gp\\cov.py:52\u001b[0m\n\u001b[0;32m     29\u001b[0m \u001b[38;5;28;01mfrom\u001b[39;00m \u001b[38;5;21;01mpytensor\u001b[39;00m\u001b[38;5;21;01m.\u001b[39;00m\u001b[38;5;21;01mtensor\u001b[39;00m\u001b[38;5;21;01m.\u001b[39;00m\u001b[38;5;21;01mvariable\u001b[39;00m \u001b[38;5;28;01mimport\u001b[39;00m TensorConstant, TensorVariable\n\u001b[0;32m     31\u001b[0m __all__ \u001b[38;5;241m=\u001b[39m [\n\u001b[0;32m     32\u001b[0m     \u001b[38;5;124m\"\u001b[39m\u001b[38;5;124mConstant\u001b[39m\u001b[38;5;124m\"\u001b[39m,\n\u001b[0;32m     33\u001b[0m     \u001b[38;5;124m\"\u001b[39m\u001b[38;5;124mWhiteNoise\u001b[39m\u001b[38;5;124m\"\u001b[39m,\n\u001b[1;32m   (...)\u001b[0m\n\u001b[0;32m     49\u001b[0m     \u001b[38;5;124m\"\u001b[39m\u001b[38;5;124mKron\u001b[39m\u001b[38;5;124m\"\u001b[39m,\n\u001b[0;32m     50\u001b[0m ]\n\u001b[1;32m---> 52\u001b[0m \u001b[38;5;28;01mfrom\u001b[39;00m \u001b[38;5;21;01mpymc\u001b[39;00m\u001b[38;5;21;01m.\u001b[39;00m\u001b[38;5;21;01mpytensorf\u001b[39;00m \u001b[38;5;28;01mimport\u001b[39;00m constant_fold\n\u001b[0;32m     54\u001b[0m TensorLike \u001b[38;5;241m=\u001b[39m Union[np\u001b[38;5;241m.\u001b[39mndarray, TensorVariable]\n\u001b[0;32m     55\u001b[0m IntSequence \u001b[38;5;241m=\u001b[39m Union[np\u001b[38;5;241m.\u001b[39mndarray, Sequence[\u001b[38;5;28mint\u001b[39m]]\n",
      "File \u001b[1;32m~\\anaconda3\\lib\\site-packages\\pymc\\pytensorf.py:59\u001b[0m\n\u001b[0;32m     56\u001b[0m \u001b[38;5;28;01mfrom\u001b[39;00m \u001b[38;5;21;01mpytensor\u001b[39;00m\u001b[38;5;21;01m.\u001b[39;00m\u001b[38;5;21;01mtensor\u001b[39;00m\u001b[38;5;21;01m.\u001b[39;00m\u001b[38;5;21;01mvariable\u001b[39;00m \u001b[38;5;28;01mimport\u001b[39;00m TensorConstant, TensorVariable\n\u001b[0;32m     58\u001b[0m \u001b[38;5;28;01mfrom\u001b[39;00m \u001b[38;5;21;01mpymc\u001b[39;00m\u001b[38;5;21;01m.\u001b[39;00m\u001b[38;5;21;01mexceptions\u001b[39;00m \u001b[38;5;28;01mimport\u001b[39;00m NotConstantValueError\n\u001b[1;32m---> 59\u001b[0m \u001b[38;5;28;01mfrom\u001b[39;00m \u001b[38;5;21;01mpymc\u001b[39;00m\u001b[38;5;21;01m.\u001b[39;00m\u001b[38;5;21;01mutil\u001b[39;00m \u001b[38;5;28;01mimport\u001b[39;00m makeiter\n\u001b[0;32m     60\u001b[0m \u001b[38;5;28;01mfrom\u001b[39;00m \u001b[38;5;21;01mpymc\u001b[39;00m\u001b[38;5;21;01m.\u001b[39;00m\u001b[38;5;21;01mvartypes\u001b[39;00m \u001b[38;5;28;01mimport\u001b[39;00m continuous_types, isgenerator, typefilter\n\u001b[0;32m     62\u001b[0m PotentialShapeType \u001b[38;5;241m=\u001b[39m Union[\u001b[38;5;28mint\u001b[39m, np\u001b[38;5;241m.\u001b[39mndarray, Sequence[Union[\u001b[38;5;28mint\u001b[39m, Variable]], TensorVariable]\n",
      "File \u001b[1;32m~\\anaconda3\\lib\\site-packages\\pymc\\util.py:21\u001b[0m\n\u001b[0;32m     18\u001b[0m \u001b[38;5;28;01mfrom\u001b[39;00m \u001b[38;5;21;01mcollections\u001b[39;00m\u001b[38;5;21;01m.\u001b[39;00m\u001b[38;5;21;01mabc\u001b[39;00m \u001b[38;5;28;01mimport\u001b[39;00m Sequence\n\u001b[0;32m     19\u001b[0m \u001b[38;5;28;01mfrom\u001b[39;00m \u001b[38;5;21;01mtyping\u001b[39;00m \u001b[38;5;28;01mimport\u001b[39;00m Any, NewType, Optional, Union, cast\n\u001b[1;32m---> 21\u001b[0m \u001b[38;5;28;01mimport\u001b[39;00m \u001b[38;5;21;01marviz\u001b[39;00m\n\u001b[0;32m     22\u001b[0m \u001b[38;5;28;01mimport\u001b[39;00m \u001b[38;5;21;01mcloudpickle\u001b[39;00m\n\u001b[0;32m     23\u001b[0m \u001b[38;5;28;01mimport\u001b[39;00m \u001b[38;5;21;01mnumpy\u001b[39;00m \u001b[38;5;28;01mas\u001b[39;00m \u001b[38;5;21;01mnp\u001b[39;00m\n",
      "File \u001b[1;32m~\\anaconda3\\lib\\site-packages\\arviz\\__init__.py:34\u001b[0m\n\u001b[0;32m     30\u001b[0m _log \u001b[38;5;241m=\u001b[39m Logger(\u001b[38;5;124m\"\u001b[39m\u001b[38;5;124marviz\u001b[39m\u001b[38;5;124m\"\u001b[39m)\n\u001b[0;32m     33\u001b[0m \u001b[38;5;28;01mfrom\u001b[39;00m \u001b[38;5;21;01m.\u001b[39;00m\u001b[38;5;21;01mdata\u001b[39;00m \u001b[38;5;28;01mimport\u001b[39;00m \u001b[38;5;241m*\u001b[39m\n\u001b[1;32m---> 34\u001b[0m \u001b[38;5;28;01mfrom\u001b[39;00m \u001b[38;5;21;01m.\u001b[39;00m\u001b[38;5;21;01mplots\u001b[39;00m \u001b[38;5;28;01mimport\u001b[39;00m \u001b[38;5;241m*\u001b[39m\n\u001b[0;32m     35\u001b[0m \u001b[38;5;28;01mfrom\u001b[39;00m \u001b[38;5;21;01m.\u001b[39;00m\u001b[38;5;21;01mplots\u001b[39;00m\u001b[38;5;21;01m.\u001b[39;00m\u001b[38;5;21;01mbackends\u001b[39;00m \u001b[38;5;28;01mimport\u001b[39;00m \u001b[38;5;241m*\u001b[39m\n\u001b[0;32m     36\u001b[0m \u001b[38;5;28;01mfrom\u001b[39;00m \u001b[38;5;21;01m.\u001b[39;00m\u001b[38;5;21;01mstats\u001b[39;00m \u001b[38;5;28;01mimport\u001b[39;00m \u001b[38;5;241m*\u001b[39m\n",
      "File \u001b[1;32m~\\anaconda3\\lib\\site-packages\\arviz\\plots\\__init__.py:2\u001b[0m\n\u001b[0;32m      1\u001b[0m \u001b[38;5;124;03m\"\"\"Plotting functions.\"\"\"\u001b[39;00m\n\u001b[1;32m----> 2\u001b[0m \u001b[38;5;28;01mfrom\u001b[39;00m \u001b[38;5;21;01m.\u001b[39;00m\u001b[38;5;21;01mautocorrplot\u001b[39;00m \u001b[38;5;28;01mimport\u001b[39;00m plot_autocorr\n\u001b[0;32m      3\u001b[0m \u001b[38;5;28;01mfrom\u001b[39;00m \u001b[38;5;21;01m.\u001b[39;00m\u001b[38;5;21;01mbpvplot\u001b[39;00m \u001b[38;5;28;01mimport\u001b[39;00m plot_bpv\n\u001b[0;32m      4\u001b[0m \u001b[38;5;28;01mfrom\u001b[39;00m \u001b[38;5;21;01m.\u001b[39;00m\u001b[38;5;21;01mbfplot\u001b[39;00m \u001b[38;5;28;01mimport\u001b[39;00m plot_bf\n",
      "File \u001b[1;32m~\\anaconda3\\lib\\site-packages\\arviz\\plots\\autocorrplot.py:7\u001b[0m\n\u001b[0;32m      5\u001b[0m \u001b[38;5;28;01mfrom\u001b[39;00m \u001b[38;5;21;01m.\u001b[39;00m\u001b[38;5;21;01m.\u001b[39;00m\u001b[38;5;21;01mrcparams\u001b[39;00m \u001b[38;5;28;01mimport\u001b[39;00m rcParams\n\u001b[0;32m      6\u001b[0m \u001b[38;5;28;01mfrom\u001b[39;00m \u001b[38;5;21;01m.\u001b[39;00m\u001b[38;5;21;01m.\u001b[39;00m\u001b[38;5;21;01mutils\u001b[39;00m \u001b[38;5;28;01mimport\u001b[39;00m _var_names\n\u001b[1;32m----> 7\u001b[0m \u001b[38;5;28;01mfrom\u001b[39;00m \u001b[38;5;21;01m.\u001b[39;00m\u001b[38;5;21;01mplot_utils\u001b[39;00m \u001b[38;5;28;01mimport\u001b[39;00m default_grid, filter_plotters_list, get_plotting_function\n\u001b[0;32m     10\u001b[0m \u001b[38;5;28;01mdef\u001b[39;00m \u001b[38;5;21mplot_autocorr\u001b[39m(\n\u001b[0;32m     11\u001b[0m     data,\n\u001b[0;32m     12\u001b[0m     var_names\u001b[38;5;241m=\u001b[39m\u001b[38;5;28;01mNone\u001b[39;00m,\n\u001b[1;32m   (...)\u001b[0m\n\u001b[0;32m     24\u001b[0m     show\u001b[38;5;241m=\u001b[39m\u001b[38;5;28;01mNone\u001b[39;00m,\n\u001b[0;32m     25\u001b[0m ):\n\u001b[0;32m     26\u001b[0m \u001b[38;5;250m    \u001b[39m\u001b[38;5;124mr\u001b[39m\u001b[38;5;124;03m\"\"\"Bar plot of the autocorrelation function (ACF) for a sequence of data.\u001b[39;00m\n\u001b[0;32m     27\u001b[0m \n\u001b[0;32m     28\u001b[0m \u001b[38;5;124;03m    The ACF plots are helpful as a convergence diagnostic for posteriors from MCMC\u001b[39;00m\n\u001b[1;32m   (...)\u001b[0m\n\u001b[0;32m    117\u001b[0m \u001b[38;5;124;03m        >>> az.plot_autocorr(data, var_names=['mu', 'tau'], max_lag=200, combined=True)\u001b[39;00m\n\u001b[0;32m    118\u001b[0m \u001b[38;5;124;03m    \"\"\"\u001b[39;00m\n",
      "File \u001b[1;32m~\\anaconda3\\lib\\site-packages\\arviz\\plots\\plot_utils.py:15\u001b[0m\n\u001b[0;32m     11\u001b[0m \u001b[38;5;28;01mfrom\u001b[39;00m \u001b[38;5;21;01mscipy\u001b[39;00m\u001b[38;5;21;01m.\u001b[39;00m\u001b[38;5;21;01minterpolate\u001b[39;00m \u001b[38;5;28;01mimport\u001b[39;00m CubicSpline\n\u001b[0;32m     14\u001b[0m \u001b[38;5;28;01mfrom\u001b[39;00m \u001b[38;5;21;01m.\u001b[39;00m\u001b[38;5;21;01m.\u001b[39;00m\u001b[38;5;21;01mrcparams\u001b[39;00m \u001b[38;5;28;01mimport\u001b[39;00m rcParams\n\u001b[1;32m---> 15\u001b[0m \u001b[38;5;28;01mfrom\u001b[39;00m \u001b[38;5;21;01m.\u001b[39;00m\u001b[38;5;21;01m.\u001b[39;00m\u001b[38;5;21;01mstats\u001b[39;00m\u001b[38;5;21;01m.\u001b[39;00m\u001b[38;5;21;01mdensity_utils\u001b[39;00m \u001b[38;5;28;01mimport\u001b[39;00m kde\n\u001b[0;32m     16\u001b[0m \u001b[38;5;28;01mfrom\u001b[39;00m \u001b[38;5;21;01m.\u001b[39;00m\u001b[38;5;21;01m.\u001b[39;00m\u001b[38;5;21;01mstats\u001b[39;00m \u001b[38;5;28;01mimport\u001b[39;00m hdi\n\u001b[0;32m     18\u001b[0m KwargSpec \u001b[38;5;241m=\u001b[39m Dict[\u001b[38;5;28mstr\u001b[39m, Any]\n",
      "File \u001b[1;32m~\\anaconda3\\lib\\site-packages\\arviz\\stats\\__init__.py:3\u001b[0m\n\u001b[0;32m      1\u001b[0m \u001b[38;5;66;03m# pylint: disable=wildcard-import\u001b[39;00m\n\u001b[0;32m      2\u001b[0m \u001b[38;5;124;03m\"\"\"Statistical tests and diagnostics for ArviZ.\"\"\"\u001b[39;00m\n\u001b[1;32m----> 3\u001b[0m \u001b[38;5;28;01mfrom\u001b[39;00m \u001b[38;5;21;01m.\u001b[39;00m\u001b[38;5;21;01mdensity_utils\u001b[39;00m \u001b[38;5;28;01mimport\u001b[39;00m \u001b[38;5;241m*\u001b[39m\n\u001b[0;32m      4\u001b[0m \u001b[38;5;28;01mfrom\u001b[39;00m \u001b[38;5;21;01m.\u001b[39;00m\u001b[38;5;21;01mdiagnostics\u001b[39;00m \u001b[38;5;28;01mimport\u001b[39;00m \u001b[38;5;241m*\u001b[39m\n\u001b[0;32m      5\u001b[0m \u001b[38;5;28;01mfrom\u001b[39;00m \u001b[38;5;21;01m.\u001b[39;00m\u001b[38;5;21;01mstats\u001b[39;00m \u001b[38;5;28;01mimport\u001b[39;00m \u001b[38;5;241m*\u001b[39m\n",
      "File \u001b[1;32m~\\anaconda3\\lib\\site-packages\\arviz\\stats\\density_utils.py:8\u001b[0m\n\u001b[0;32m      6\u001b[0m \u001b[38;5;28;01mfrom\u001b[39;00m \u001b[38;5;21;01mscipy\u001b[39;00m\u001b[38;5;21;01m.\u001b[39;00m\u001b[38;5;21;01mfftpack\u001b[39;00m \u001b[38;5;28;01mimport\u001b[39;00m fft\n\u001b[0;32m      7\u001b[0m \u001b[38;5;28;01mfrom\u001b[39;00m \u001b[38;5;21;01mscipy\u001b[39;00m\u001b[38;5;21;01m.\u001b[39;00m\u001b[38;5;21;01moptimize\u001b[39;00m \u001b[38;5;28;01mimport\u001b[39;00m brentq\n\u001b[1;32m----> 8\u001b[0m \u001b[38;5;28;01mfrom\u001b[39;00m \u001b[38;5;21;01mscipy\u001b[39;00m\u001b[38;5;21;01m.\u001b[39;00m\u001b[38;5;21;01msignal\u001b[39;00m \u001b[38;5;28;01mimport\u001b[39;00m convolve, convolve2d, gaussian  \u001b[38;5;66;03m# pylint: disable=no-name-in-module\u001b[39;00m\n\u001b[0;32m      9\u001b[0m \u001b[38;5;28;01mfrom\u001b[39;00m \u001b[38;5;21;01mscipy\u001b[39;00m\u001b[38;5;21;01m.\u001b[39;00m\u001b[38;5;21;01msparse\u001b[39;00m \u001b[38;5;28;01mimport\u001b[39;00m coo_matrix\n\u001b[0;32m     10\u001b[0m \u001b[38;5;28;01mfrom\u001b[39;00m \u001b[38;5;21;01mscipy\u001b[39;00m\u001b[38;5;21;01m.\u001b[39;00m\u001b[38;5;21;01mspecial\u001b[39;00m \u001b[38;5;28;01mimport\u001b[39;00m ive  \u001b[38;5;66;03m# pylint: disable=no-name-in-module\u001b[39;00m\n",
      "\u001b[1;31mImportError\u001b[0m: cannot import name 'gaussian' from 'scipy.signal' (C:\\Users\\kevxs\\anaconda3\\lib\\site-packages\\scipy\\signal\\__init__.py)"
     ]
    }
   ],
   "source": [
    "!pip install scipy==1.10.1"
   ]
  },
  {
   "cell_type": "code",
   "execution_count": 2,
   "id": "1d4bdf79-5821-4dbe-80c5-c10cd5b8691d",
   "metadata": {},
   "outputs": [
    {
     "name": "stderr",
     "output_type": "stream",
     "text": [
      "WARNING (pytensor.configdefaults): g++ not available, if using conda: `conda install m2w64-toolchain`\n",
      "WARNING (pytensor.configdefaults): g++ not detected!  PyTensor will be unable to compile C-implementations and will default to Python. Performance may be severely degraded. To remove this warning, set PyTensor flags cxx to an empty string.\n",
      "WARNING (pytensor.tensor.blas): Using NumPy C-API based implementation for BLAS functions.\n"
     ]
    }
   ],
   "source": [
    "import bambi as bmb\n",
    "import arviz as az"
   ]
  },
  {
   "cell_type": "code",
   "execution_count": 3,
   "id": "e77d6b43-e0ff-468d-80d6-4324fa27d598",
   "metadata": {},
   "outputs": [
    {
     "name": "stdout",
     "output_type": "stream",
     "text": [
      "   Unnamed: 0  PAT_ENC_CSN_ID  UCSF_MRN   APPT_DATE APPT_DTTM  \\\n",
      "0           1       195751622     11789  2023-08-25   00:00.0   \n",
      "1           2       199339531     11789  2023-12-22   30:00.0   \n",
      "2           3       202677779     11789  2024-06-07   30:00.0   \n",
      "3           4       215898943     11789  2024-10-01   30:00.0   \n",
      "4           5       202130465     20672  2024-02-13   30:00.0   \n",
      "5           6       205359736     20672  2024-05-07   00:00.0   \n",
      "6           7       214536274     20672  2024-08-06   30:00.0   \n",
      "7           8       215614951     20672  2024-10-01   00:00.0   \n",
      "8           9       120576326     24490  2020-01-22   30:00.0   \n",
      "9          10       156323929     24490  2021-07-28   30:00.0   \n",
      "\n",
      "    ENCOUNTER_DEPT ENCOUNTER_CATEGORY ENCOUNTER_TYPE ENCOUNTER_STATUS  \\\n",
      "0  NEPHROLOGY PARN       Office Visit    NEW PATIENT        Completed   \n",
      "1  NEPHROLOGY PARN       Office Visit      FOLLOW UP        Completed   \n",
      "2  NEPHROLOGY PARN       Office Visit      FOLLOW UP        Completed   \n",
      "3  NEPHROLOGY PARN       Telemedicine        IVV FUP        Completed   \n",
      "4  NEPHROLOGY PARN       Office Visit    NEW PATIENT        Completed   \n",
      "5  NEPHROLOGY PARN       Telemedicine        IVV FUP        Completed   \n",
      "6  NEPHROLOGY PARN       Telemedicine        IVV FUP        Completed   \n",
      "7  NEPHROLOGY PARN       Telemedicine        IVV FUP        Completed   \n",
      "8  NEPHROLOGY PARN       Office Visit   FOLLOW UP 30        Completed   \n",
      "9  NEPHROLOGY PARN       Telemedicine        IVV FUP        Completed   \n",
      "\n",
      "                       PROV_NAME  ...          ENCOUNTER_NOTE_AUTHOR  \\\n",
      "0  BREEGGEMANN, MATTHEW CLARENCE  ...  BREEGGEMANN, MATTHEW CLARENCE   \n",
      "1  BREEGGEMANN, MATTHEW CLARENCE  ...  BREEGGEMANN, MATTHEW CLARENCE   \n",
      "2  BREEGGEMANN, MATTHEW CLARENCE  ...  BREEGGEMANN, MATTHEW CLARENCE   \n",
      "3  BREEGGEMANN, MATTHEW CLARENCE  ...  BREEGGEMANN, MATTHEW CLARENCE   \n",
      "4    CARLOS, CHRISTOPHER ANTHONY  ...    CARLOS, CHRISTOPHER ANTHONY   \n",
      "5    CARLOS, CHRISTOPHER ANTHONY  ...    CARLOS, CHRISTOPHER ANTHONY   \n",
      "6    CARLOS, CHRISTOPHER ANTHONY  ...    CARLOS, CHRISTOPHER ANTHONY   \n",
      "7    CARLOS, CHRISTOPHER ANTHONY  ...            VASUDEVAN, SAIPRIYA   \n",
      "8            CHO, KERRY CHANGSIG  ...            CHO, KERRY CHANGSIG   \n",
      "9            CHO, KERRY CHANGSIG  ...            CHO, KERRY CHANGSIG   \n",
      "\n",
      "  ENCOUNTER_NOTE_AUTHOR_TYPE  \\\n",
      "0                  Physician   \n",
      "1                  Physician   \n",
      "2                  Physician   \n",
      "3                  Physician   \n",
      "4                  Physician   \n",
      "5                  Physician   \n",
      "6                  Physician   \n",
      "7                   Resident   \n",
      "8                  Physician   \n",
      "9                  Physician   \n",
      "\n",
      "                                      ENCOUNTER_NOTE  \\\n",
      "0  NEPHROLOGY KIDNEY STONE CLINIC INITIAL CONSULT...   \n",
      "1  NEPHROLOGY KIDNEY STONE CLINIC FOLLOW-UP VISIT...   \n",
      "2  NEPHROLOGY KIDNEY STONE CLINIC FOLLOW-UP VISIT...   \n",
      "3  NEPHROLOGY KIDNEY STONE CLINIC FOLLOW-UP VISIT...   \n",
      "4     Subjective    Philip L Judson is a 55 y.o. ...   \n",
      "5     Subjective    Philip L Judson is a 55 y.o. ...   \n",
      "6     Subjective    Philip L Judson is a 56 y.o. ...   \n",
      "7     Subjective    Philip L Judson is a 56 y.o. ...   \n",
      "8  Edison Chan is a 87 y.o. male with long standi...   \n",
      "9  Edison Chan is a 88 y.o. male with long standi...   \n",
      "\n",
      "                                PATIENT_INSTRUCTIONS AGE_AT_ENCOUNTER_s  \\\n",
      "0  Thank you for seeing us in the UCSF Nephrology...           0.200994   \n",
      "1  Thank you for seeing us in the UCSF Nephrology...           0.200994   \n",
      "2  Thank you for seeing us in the UCSF Nephrology...           0.256226   \n",
      "3  Thank you for seeing us in the UCSF Nephrology...           0.256226   \n",
      "4                                             #NAME?          -0.406552   \n",
      "5                                             #NAME?          -0.406552   \n",
      "6  Trial increase lisinopril to 20mg daily for a ...          -0.351321   \n",
      "7  Please start farxiga 10mg once every morning  ...          -0.351321   \n",
      "8  Take Valsartan 160 mg twice daily.  Record blo...           1.360856   \n",
      "9  Repeat labs later this week or early next week...           1.416087   \n",
      "\n",
      "  meds_count_s    egfr_s Time_since_last_visit_s  years_since_2020  \\\n",
      "0    -0.185893       NaN               -0.832783                 3   \n",
      "1    -1.169019       NaN               -0.093315                 3   \n",
      "2    -0.185893       NaN                0.211171                 4   \n",
      "3    -0.185893       NaN               -0.111957                 4   \n",
      "4    -1.046128       NaN               -0.832783                 4   \n",
      "5    -1.046128       NaN               -0.310806                 4   \n",
      "6    -1.046128       NaN               -0.267308                 4   \n",
      "7    -1.169019       NaN               -0.484798                 4   \n",
      "8     0.551451 -0.544910                0.472160                 0   \n",
      "9     0.305670 -0.810583                2.603566                 1   \n",
      "\n",
      "  RACE_ETHNICITY2  \n",
      "0           White  \n",
      "1           White  \n",
      "2           White  \n",
      "3           White  \n",
      "4           White  \n",
      "5           White  \n",
      "6           White  \n",
      "7           White  \n",
      "8           Asian  \n",
      "9           Asian  \n",
      "\n",
      "[10 rows x 62 columns]\n"
     ]
    }
   ],
   "source": [
    "# Read in data\n",
    "os.chdir(\"C:/Users/kevxs/OneDrive/Documents/WIP Research Stuff/Telehealth and Nephrology/Data and Analysis 2/5_31 data/\")\n",
    "df = pd.read_csv('Data Sci 223.csv', encoding='latin1')\n",
    "top = df.head(10)\n",
    "print(top)"
   ]
  },
  {
   "cell_type": "code",
   "execution_count": 271,
   "id": "aced113a-875b-4f7f-be13-4c6a9a43daa6",
   "metadata": {},
   "outputs": [],
   "source": [
    "def extract_combined_subjective_sections(note_text):\n",
    "    if not isinstance(note_text, str):\n",
    "        return None\n",
    "\n",
    "    note_text = note_text.strip()\n",
    "\n",
    "    # Start headers (case-insensitive)\n",
    "    start_headers = [\n",
    "        'SUBJECTIVE',\n",
    "        'CHIEF COMPLAINT',\n",
    "        'HISTORY OF PRESENT ILLNESS',\n",
    "        'INTERIM HISTORY'\n",
    "    ]\n",
    "\n",
    "    stop_headers = [\n",
    "        'Physical Exam',\n",
    "        'Objective',\n",
    "        'Impression',\n",
    "        'Assessment',\n",
    "        'Plan',\n",
    "        'Review of Systems',\n",
    "        'Social History',\n",
    "        'Past Medical History',\n",
    "        'Past Surgical History',\n",
    "        'Past Medical/Surgical History',\n",
    "        'Medications',\n",
    "        'Allergies',\n",
    "        'Allergies/Contraindications',\n",
    "        'Family History'\n",
    "    ]\n",
    "\n",
    "    # Compile regex for start headers (case-insensitive), with optional colon and trailing spaces\n",
    "    start_pattern = re.compile(\n",
    "        r'(?i)\\b(' + '|'.join(re.escape(h) for h in start_headers) + r')\\b\\s*:?',\n",
    "    )\n",
    "\n",
    "    # Compile regex for stop headers - exact phrase, but match only Title Case or UPPERCASE\n",
    "    # Match the whole stop header phrase, ignoring trailing punctuation, but don't care about what follows on the line\n",
    "    stop_pattern = re.compile(\n",
    "        r'\\b(' + '|'.join(re.escape(h) for h in stop_headers) + r')\\b',\n",
    "    )\n",
    "\n",
    "    # Find all start header matches (start index + text)\n",
    "    start_matches = [(m.start(), m.group()) for m in start_pattern.finditer(note_text)]\n",
    "\n",
    "    # Find all stop header matches (start index + text)\n",
    "    stop_matches_all = [(m.start(), m.group()) for m in stop_pattern.finditer(note_text)]\n",
    "\n",
    "    # Filter stop headers by case: keep only those that are Title Case or UPPERCASE exactly\n",
    "    stop_matches = [(pos, txt) for pos, txt in stop_matches_all if txt.istitle() or txt.isupper()]\n",
    "\n",
    "    # Sort stop matches by position (should already be sorted, but let's be sure)\n",
    "    stop_matches = sorted(stop_matches, key=lambda x: x[0])\n",
    "\n",
    "    section_ranges = []\n",
    "    for start_pos, _ in start_matches:\n",
    "        # Find the closest stop header start position that comes after this start header\n",
    "        stops_after = [pos for pos, txt in stop_matches if pos > start_pos]\n",
    "        end_pos = min(stops_after) if stops_after else len(note_text)\n",
    "        section_ranges.append((start_pos, end_pos))\n",
    "\n",
    "    # Merge overlapping/nested ranges\n",
    "    merged_ranges = []\n",
    "    for start, end in sorted(section_ranges):\n",
    "        if merged_ranges and start >= merged_ranges[-1][0] and end <= merged_ranges[-1][1]:\n",
    "            continue\n",
    "        merged_ranges.append((start, end))\n",
    "\n",
    "    # Extract sections based on these ranges\n",
    "    sections = [note_text[start:end].strip() for start, end in merged_ranges]\n",
    "\n",
    "    return '\\n\\n'.join(sections) if sections else None\n"
   ]
  },
  {
   "cell_type": "code",
   "execution_count": 272,
   "id": "68227095-cb25-42ce-be1b-79f6fc60690c",
   "metadata": {},
   "outputs": [
    {
     "name": "stdout",
     "output_type": "stream",
     "text": [
      "0    Chief Complaint   Patient presents with    New...\n",
      "1    Interim History:  Anne was last seen on 08/25/...\n",
      "2    Interim History:  Anne was last seen on 12/22/...\n",
      "3    Interim History:  Anne was last seen on 06/07/...\n",
      "4    Subjective    Philip L Judson is a 55 y.o. man...\n",
      "5    Subjective    Philip L Judson is a 55 y.o. mal...\n",
      "6    Subjective    Philip L Judson is a 56 y.o. mal...\n",
      "7    Subjective    Philip L Judson is a 56 y.o. mal...\n",
      "8    HISTORY OF PRESENT ILLNESS  Interval Hx  Accom...\n",
      "9    HISTORY OF PRESENT ILLNESS  Interval Hx  Chest...\n",
      "Name: subjective, dtype: object\n"
     ]
    }
   ],
   "source": [
    "top['subjective'] = top['ENCOUNTER_NOTE'].apply(extract_combined_subjective_sections)\n",
    "print(top['subjective'])"
   ]
  },
  {
   "cell_type": "code",
   "execution_count": 273,
   "id": "1b3ab024-a3fe-4970-b481-dbfd545a4e60",
   "metadata": {},
   "outputs": [
    {
     "name": "stdout",
     "output_type": "stream",
     "text": [
      "HISTORY OF PRESENT ILLNESS  Interval Hx  Chest pain evaluation, bigeminy and atrial fibrillation, elevated BP to 150-195 systolically, John Muir Concord June 1, 2021, added hydralazine for BP and apixaban/aspirin for afib. Bumex 1 mg daily reduced to 0.5 mg daily, stopped earlier this week after his SCr spike to 2.45 mg/dL last week.  Hydralazine 110-140, reduced dose from 25 mg TID to BID, 130s to 160s.   Heart rate 50s to 80s, 30s to 60s (may be spuriously low due to bigeminy), currently on holter monitor. Dr. Crawford not available due to COVID, now seeing cardiologist Dr. Michael Tsang at Sutter, echo WNL by report.  Medium edema but no pitting per family, compression stockings. Weight 141 pounds currently, 145 peak, 138 minimum.  Feels tired due to lack of sleep, nocturia, naps during the daytime, going to PT, no orthopnea/PND (uses 2 pillows at night).    No recent illnesses, ED visits, hospitalizations.  No urinary or uremic symptoms, no hematuria or dysuria.    July 2021 labs show K 5.8, SCr 2.45 mg/dL, eGFR 23-26 mL/min, increased from 1.85 mg/dL in May 2021. Typical eGFR around 30-35 mL/min since 2015.    Background Hx  He started Detrol in June 2019 - possible hyperactive bladder.  He doesn't think that the Detrol helped - so he stopped, but his nocturia has since improved from 3-4 times per night to 2 times per night.  Dr. Meng wanted to try Myrbetriq - but his PMD was concerned about HTN as a side effect.  No family history of kidney disease.\n"
     ]
    }
   ],
   "source": [
    "print(top['subjective'].iloc[9])"
   ]
  },
  {
   "cell_type": "code",
   "execution_count": 274,
   "id": "53fe74a2-f3ae-4de6-8817-4f7625f2863f",
   "metadata": {},
   "outputs": [
    {
     "name": "stdout",
     "output_type": "stream",
     "text": [
      "Chief Complaint: Follow ip of CKD  Interpreter: available via telehealth    HISTORY OF PRESENT ILLNESS  Interval Hx  Occasional joint pain in neck/shoulders. No skin or hair issues. Feels well - no specific complaints. No urinary or uremic symptoms. No recent hospitalizations/ED visits or illnesses. Recent labs show stable kidney function. Slightly higher urine protein than before, urine albumin 400+ mg/g creatinine  Blood pressures checked at home every few weeks. SBP 120s/70s. Currently MMF 500 mg daily, prednisone 5 mg daily, lisinopril 5 mg daily,     Mammogram April 2021 at ZSFG - negative R, benign L breast. Covid vaccines in April and May 2021\n"
     ]
    }
   ],
   "source": [
    "sampled_df = df.sample(n=1000, random_state=42) # now do a random sample of 1000\n",
    "sampled_df['subjective'] = sampled_df['ENCOUNTER_NOTE'].apply(extract_combined_subjective_sections)\n",
    "print(sampled_df['subjective'].iloc[0])"
   ]
  },
  {
   "cell_type": "code",
   "execution_count": 275,
   "id": "c0585170-61ce-45c9-b1b7-9d80c7a29d14",
   "metadata": {},
   "outputs": [
    {
     "name": "stderr",
     "output_type": "stream",
     "text": [
      "Device set to use cpu\n"
     ]
    }
   ],
   "source": [
    "from transformers import pipeline\n",
    "\n",
    "sentiment_classifier = pipeline(\n",
    "    \"sentiment-analysis\",\n",
    "    model=\"distilbert-base-uncased-finetuned-sst-2-english\",\n",
    "    tokenizer=\"distilbert-base-uncased-finetuned-sst-2-english\",\n",
    "    truncation=True,\n",
    "    max_length=512\n",
    ")\n",
    "\n",
    "# Define a safe chunking function\n",
    "def split_into_chunks(text, tokenizer, max_tokens=510):\n",
    "    tokens = tokenizer.encode(text, add_special_tokens=False)\n",
    "    chunks = [tokens[i:i+max_tokens] for i in range(0, len(tokens), max_tokens)]\n",
    "    return [tokenizer.decode(chunk, skip_special_tokens=True) for chunk in chunks]\n",
    "\n",
    "import textwrap\n",
    "\n",
    "def analyze_long_text(text, classifier, max_length=510):\n",
    "    if not isinstance(text, str) or text.strip() == \"\":\n",
    "        return None\n",
    "\n",
    "    # Approximate chunking: split into ~max_length word chunks\n",
    "    words = text.split()\n",
    "    chunks = [' '.join(words[i:i+max_length]) for i in range(0, len(words), max_length)]\n",
    "\n",
    "    # Run classifier with truncation (safe for each chunk)\n",
    "    results = classifier(chunks, truncation=True)\n",
    "\n",
    "    # Collect scores by label\n",
    "    label_scores = {}\n",
    "    for result in results:\n",
    "        label = result['label']\n",
    "        score = result['score']\n",
    "        if label not in label_scores:\n",
    "            label_scores[label] = []\n",
    "        label_scores[label].append(score)\n",
    "\n",
    "    # Compute average scores\n",
    "    avg_scores = {label: sum(scores)/len(scores) for label, scores in label_scores.items()}\n",
    "\n",
    "    best_label = max(avg_scores, key=avg_scores.get)\n",
    "    return {'label': best_label, 'score': avg_scores[best_label]}\n"
   ]
  },
  {
   "cell_type": "code",
   "execution_count": 217,
   "id": "29c36c3d-4e17-486f-afe8-2b02db281fc4",
   "metadata": {},
   "outputs": [],
   "source": [
    "sampled_df['sentiment'] = sampled_df['subjective'].apply(\n",
    "    lambda x: analyze_long_text(str(x), sentiment_classifier) if pd.notnull(x) else None\n",
    ")"
   ]
  },
  {
   "cell_type": "code",
   "execution_count": 248,
   "id": "e4d49620-c5c1-4f27-b271-6a2e1e7ad317",
   "metadata": {},
   "outputs": [],
   "source": [
    "sampled_df['sentiment_full'] = sampled_df['ENCOUNTER_NOTE'].apply(\n",
    "    lambda x: analyze_long_text(str(x), sentiment_classifier) if pd.notnull(x) else None\n",
    ")"
   ]
  },
  {
   "cell_type": "code",
   "execution_count": 249,
   "id": "a8daa08a-09ca-41f7-af69-6cce3e784547",
   "metadata": {},
   "outputs": [
    {
     "name": "stdout",
     "output_type": "stream",
     "text": [
      "Number of missing (None or NaN) values: 135\n"
     ]
    }
   ],
   "source": [
    "num_missing = sampled_df['subjective'].isna().sum()\n",
    "print(f\"Number of missing (None or NaN) values: {num_missing}\")"
   ]
  },
  {
   "cell_type": "code",
   "execution_count": 250,
   "id": "dbd3bcf7-db43-45d5-a766-66648d8b34ba",
   "metadata": {},
   "outputs": [
    {
     "name": "stdout",
     "output_type": "stream",
     "text": [
      "       Unnamed: 0  PAT_ENC_CSN_ID  UCSF_MRN   APPT_DATE APPT_DTTM  \\\n",
      "26830       26831       159810594  60634882  2022-03-09   00:00.0   \n",
      "17497       17498       195776117  47468043  2023-10-03   30:00.0   \n",
      "277           278       168069062    506478  2022-04-29   30:00.0   \n",
      "13735       13736       188887381  42892874  2023-04-06   20:00.0   \n",
      "32674       32675       153815317  70697882  2021-05-20   00:00.0   \n",
      "\n",
      "        ENCOUNTER_DEPT ENCOUNTER_CATEGORY ENCOUNTER_TYPE ENCOUNTER_STATUS  \\\n",
      "26830  NEPHROLOGY PARN       Telemedicine        IVV FUP        Completed   \n",
      "17497  NEPHROLOGY PARN       Telemedicine        IVV FUP        Completed   \n",
      "277    NEPHROLOGY PARN       Office Visit      FOLLOW UP        Completed   \n",
      "13735  NEPHROLOGY PARN       Telemedicine        IVV NEW        Completed   \n",
      "32674  NEPHROLOGY PARN       Office Visit    NEW PATIENT        Completed   \n",
      "\n",
      "                           PROV_NAME  ...  \\\n",
      "26830            CHO, KERRY CHANGSIG  ...   \n",
      "17497  BREEGGEMANN, MATTHEW CLARENCE  ...   \n",
      "277                    HSU, CHI-YUAN  ...   \n",
      "13735                    CHAO, ALLEN  ...   \n",
      "32674    CARLOS, CHRISTOPHER ANTHONY  ...   \n",
      "\n",
      "                                              subjective  \\\n",
      "26830  Chief Complaint: Follow ip of CKD  Interpreter...   \n",
      "17497  Subjective:   HPI (copied from initial visit o...   \n",
      "277                                                 None   \n",
      "13735  Subjective      History of Present Illness   A...   \n",
      "32674  Subjective:   REASON FOR VISIT/CC: New Patient...   \n",
      "\n",
      "                                               sentiment  sentiment_label  \\\n",
      "26830  {'label': 'NEGATIVE', 'score': 0.9953035116195...         NEGATIVE   \n",
      "17497  {'label': 'NEGATIVE', 'score': 0.9944905042648...         NEGATIVE   \n",
      "277                                                 None          Missing   \n",
      "13735  {'label': 'NEGATIVE', 'score': 0.9657166600227...         NEGATIVE   \n",
      "32674  {'label': 'NEGATIVE', 'score': 0.997425377368927}         NEGATIVE   \n",
      "\n",
      "                                            vader_scores vader_compound  \\\n",
      "26830  {'neg': 0.25, 'neu': 0.683, 'pos': 0.067, 'com...        -0.9667   \n",
      "17497  {'neg': 0.079, 'neu': 0.875, 'pos': 0.046, 'co...        -0.9410   \n",
      "277                                                 None            NaN   \n",
      "13735  {'neg': 0.138, 'neu': 0.862, 'pos': 0.0, 'comp...        -0.9201   \n",
      "32674  {'neg': 0.164, 'neu': 0.818, 'pos': 0.018, 'co...        -0.9839   \n",
      "\n",
      "      transformer_label vader_label sentiment_agreement  transformer_score  \\\n",
      "26830          NEGATIVE    NEGATIVE                True           0.995304   \n",
      "17497          NEGATIVE    NEGATIVE                True           0.994491   \n",
      "277                None     NEUTRAL               False                NaN   \n",
      "13735          NEGATIVE    NEGATIVE                True           0.965717   \n",
      "32674          NEGATIVE    NEGATIVE                True           0.997425   \n",
      "\n",
      "                                          sentiment_full  \n",
      "26830  {'label': 'NEGATIVE', 'score': 0.9952715436617...  \n",
      "17497  {'label': 'NEGATIVE', 'score': 0.9926969707012...  \n",
      "277      {'label': 'NEGATIVE', 'score': 0.9968241751194}  \n",
      "13735  {'label': 'NEGATIVE', 'score': 0.9884099513292...  \n",
      "32674  {'label': 'NEGATIVE', 'score': 0.9965641498565...  \n",
      "\n",
      "[5 rows x 66 columns]\n"
     ]
    }
   ],
   "source": [
    "print(sampled_df.head())"
   ]
  },
  {
   "cell_type": "code",
   "execution_count": 220,
   "id": "ef01d43f-be11-42c2-827b-5048b13e971d",
   "metadata": {},
   "outputs": [
    {
     "name": "stdout",
     "output_type": "stream",
     "text": [
      "Chief Complaint: Follow ip of CKD  Interpreter: available via telehealth    HISTORY OF PRESENT ILLNESS  Interval Hx  Occasional joint pain in neck/shoulders. No skin or hair issues. Feels well - no specific complaints. No urinary or uremic symptoms. No recent hospitalizations/ED visits or illnesses. Recent labs show stable kidney function. Slightly higher urine protein than before, urine albumin 400+ mg/g creatinine  Blood pressures checked at home every few weeks. SBP 120s/70s. Currently MMF 500 mg daily, prednisone 5 mg daily, lisinopril 5 mg daily,     Mammogram April 2021 at ZSFG - negative R, benign L breast. Covid vaccines in April and May 2021\n"
     ]
    }
   ],
   "source": [
    "print(sampled_df['subjective'].iloc[0])"
   ]
  },
  {
   "cell_type": "code",
   "execution_count": 221,
   "id": "deda6fae-7332-432e-b4fe-29c665b3d56e",
   "metadata": {},
   "outputs": [
    {
     "name": "stdout",
     "output_type": "stream",
     "text": [
      "[{'label': 'NEGATIVE', 'score': 0.9953035116195679}]\n"
     ]
    }
   ],
   "source": [
    "print(sentiment_classifier(\"Chief Complaint: Follow ip of CKD  Interpreter: available via telehealth    HISTORY OF PRESENT ILLNESS  Interval Hx  Occasional joint pain in neck/shoulders. No skin or hair issues. Feels well - no specific complaints. No urinary or uremic symptoms. No recent hospitalizations/ED visits or illnesses. Recent labs show stable kidney function. Slightly higher urine protein than before, urine albumin 400+ mg/g creatinine  Blood pressures checked at home every few weeks. SBP 120s/70s. Currently MMF 500 mg daily, prednisone 5 mg daily, lisinopril 5 mg daily,     Mammogram April 2021 at ZSFG - negative R, benign L breast. Covid vaccines in April and May 2021\"))"
   ]
  },
  {
   "cell_type": "code",
   "execution_count": 222,
   "id": "2a699a63-6f61-41e3-90ce-75a6089ef77e",
   "metadata": {},
   "outputs": [
    {
     "name": "stdout",
     "output_type": "stream",
     "text": [
      "{'label': 'NEGATIVE', 'score': 0.9953035116195679}\n"
     ]
    }
   ],
   "source": [
    "print(sampled_df['sentiment'].iloc[0])"
   ]
  },
  {
   "cell_type": "code",
   "execution_count": 252,
   "id": "c0ccfd6c-c2b9-4a49-ba89-da9bd1098908",
   "metadata": {},
   "outputs": [
    {
     "name": "stdout",
     "output_type": "stream",
     "text": [
      "sentiment_full_label\n",
      "NEGATIVE    988\n",
      "POSITIVE      8\n",
      "None          4\n",
      "Name: count, dtype: int64\n"
     ]
    }
   ],
   "source": [
    "sampled_df['sentiment_full_label'] = sampled_df['sentiment_full'].apply(\n",
    "    lambda x: x['label'] if isinstance(x, dict) and 'label' in x else None\n",
    ")\n",
    "\n",
    "# View distribution\n",
    "label_distribution = sampled_df['sentiment_full_label'].value_counts(dropna=False)\n",
    "print(label_distribution)"
   ]
  },
  {
   "cell_type": "code",
   "execution_count": 253,
   "id": "d8b7af9e-2419-4aab-8461-083f53feeb0e",
   "metadata": {},
   "outputs": [
    {
     "data": {
      "image/png": "[encoded data removed]",
      "text/plain": [
       "<Figure size 600x400 with 1 Axes>"
      ]
     },
     "metadata": {},
     "output_type": "display_data"
    }
   ],
   "source": [
    "import matplotlib.pyplot as plt\n",
    "import seaborn as sns\n",
    "\n",
    "# Plot the distribution\n",
    "plt.figure(figsize=(6, 4))\n",
    "sns.countplot(data=sampled_df, x='sentiment_full_label', palette='pastel')\n",
    "plt.title('Sentiment Distribution')\n",
    "plt.xlabel('Sentiment Label')\n",
    "plt.ylabel('Count')\n",
    "plt.tight_layout()\n",
    "plt.show()"
   ]
  },
  {
   "cell_type": "code",
   "execution_count": 254,
   "id": "403ab014-08d3-4a91-9601-f492fa06072c",
   "metadata": {},
   "outputs": [
    {
     "data": {
      "image/png": "[encoded data removed]",
      "text/plain": [
       "<Figure size 600x400 with 1 Axes>"
      ]
     },
     "metadata": {},
     "output_type": "display_data"
    }
   ],
   "source": [
    "# Prepare the sentiment label column\n",
    "sampled_df['sentiment_label'] = sampled_df['sentiment'].apply(\n",
    "    lambda x: x['label'] if isinstance(x, dict) and 'label' in x else 'Missing'\n",
    ")\n",
    "\n",
    "# Plot the distribution\n",
    "plt.figure(figsize=(6, 4))\n",
    "sns.countplot(data=sampled_df, x='sentiment_label', palette='pastel')\n",
    "plt.title('Sentiment Distribution')\n",
    "plt.xlabel('Sentiment Label')\n",
    "plt.ylabel('Count')\n",
    "plt.tight_layout()\n",
    "plt.show()"
   ]
  },
  {
   "cell_type": "code",
   "execution_count": 227,
   "id": "aba3c1f9-72b3-47f9-b1ee-43ff2c56ec04",
   "metadata": {},
   "outputs": [
    {
     "name": "stdout",
     "output_type": "stream",
     "text": [
      "Total average of med_changes: 0.975\n"
     ]
    }
   ],
   "source": [
    "total_avg = sampled_df['med_changes_count'].mean()\n",
    "print(\"Total average of med_changes:\", total_avg)"
   ]
  },
  {
   "cell_type": "code",
   "execution_count": 228,
   "id": "f97fab57-6503-458e-9b92-e48f7b4e79a8",
   "metadata": {},
   "outputs": [
    {
     "name": "stdout",
     "output_type": "stream",
     "text": [
      "Average med_changes for POSITIVE sentiment: 0.9375\n",
      "Average med_changes for NEGATIVE sentiment: 1.0\n"
     ]
    }
   ],
   "source": [
    "# Filter out missing or other labels if needed\n",
    "positive_avg = sampled_df[sampled_df['sentiment_label'] == 'POSITIVE']['med_changes_count'].mean()\n",
    "negative_avg = sampled_df[sampled_df['sentiment_label'] == 'NEGATIVE']['med_changes_count'].mean()\n",
    "\n",
    "print(\"Average med_changes for POSITIVE sentiment:\", positive_avg)\n",
    "print(\"Average med_changes for NEGATIVE sentiment:\", negative_avg)"
   ]
  },
  {
   "cell_type": "code",
   "execution_count": 255,
   "id": "6dcb0516-35c8-43be-abd5-bdc5aa54f51b",
   "metadata": {},
   "outputs": [
    {
     "name": "stdout",
     "output_type": "stream",
     "text": [
      "transformer_label  NEGATIVE  POSITIVE\n",
      "Telehealth                           \n",
      "In-person               247        14\n",
      "Telehealth Video        570        34\n"
     ]
    }
   ],
   "source": [
    "sampled_df['transformer_label'] = sampled_df['sentiment'].apply(\n",
    "    lambda x: x['label'] if isinstance(x, dict) and 'label' in x else None\n",
    ")\n",
    "comparison_table = pd.crosstab(sampled_df['Telehealth'], sampled_df['transformer_label'])\n",
    "\n",
    "print(comparison_table)"
   ]
  },
  {
   "cell_type": "code",
   "execution_count": 257,
   "id": "34b86fc4-3b65-448f-b918-d998b1830586",
   "metadata": {},
   "outputs": [
    {
     "data": {
      "image/png": "[encoded data removed]",
      "text/plain": [
       "<Figure size 800x600 with 1 Axes>"
      ]
     },
     "metadata": {},
     "output_type": "display_data"
    }
   ],
   "source": [
    "# Create stacked bar chart\n",
    "comparison_table.plot(kind='bar', stacked=True, figsize=(8, 6), colormap='Set2')\n",
    "\n",
    "# Titles and labels\n",
    "plt.title('Transformer Sentiment Label Distribution by Telehealth Type')\n",
    "plt.xlabel('Visit Type')\n",
    "plt.ylabel('Number of Encounters')\n",
    "plt.xticks(rotation=0)\n",
    "plt.legend(title='Sentiment Label')\n",
    "\n",
    "plt.tight_layout()\n",
    "plt.show()"
   ]
  },
  {
   "cell_type": "code",
   "execution_count": 229,
   "id": "e9755c7a-13d2-4d66-8810-f93d394061a2",
   "metadata": {},
   "outputs": [
    {
     "name": "stderr",
     "output_type": "stream",
     "text": [
      "[nltk_data] Downloading package vader_lexicon to\n",
      "[nltk_data]     C:\\Users\\kevxs\\AppData\\Roaming\\nltk_data...\n"
     ]
    },
    {
     "data": {
      "text/plain": [
       "True"
      ]
     },
     "execution_count": 229,
     "metadata": {},
     "output_type": "execute_result"
    }
   ],
   "source": [
    "import nltk\n",
    "nltk.download('vader_lexicon')"
   ]
  },
  {
   "cell_type": "code",
   "execution_count": 233,
   "id": "c360f569-f18b-43d8-82f5-2a6b464a8892",
   "metadata": {},
   "outputs": [
    {
     "name": "stdout",
     "output_type": "stream",
     "text": [
      "{'neg': 0.25, 'neu': 0.683, 'pos': 0.067, 'compound': -0.9667}\n"
     ]
    }
   ],
   "source": [
    "from nltk.sentiment import SentimentIntensityAnalyzer\n",
    "\n",
    "# Initialize the analyzer\n",
    "vader = SentimentIntensityAnalyzer()\n",
    "\n",
    "# Example\n",
    "text = \"Chief Complaint: Follow ip of CKD  Interpreter: available via telehealth    HISTORY OF PRESENT ILLNESS  Interval Hx  Occasional joint pain in neck/shoulders. No skin or hair issues. Feels well - no specific complaints. No urinary or uremic symptoms. No recent hospitalizations/ED visits or illnesses. Recent labs show stable kidney function. Slightly higher urine protein than before, urine albumin 400+ mg/g creatinine  Blood pressures checked at home every few weeks. SBP 120s/70s. Currently MMF 500 mg daily, prednisone 5 mg daily, lisinopril 5 mg daily,     Mammogram April 2021 at ZSFG - negative R, benign L breast. Covid vaccines in April and May 2021.\"\n",
    "scores = vader.polarity_scores(text)\n",
    "print(scores)"
   ]
  },
  {
   "cell_type": "code",
   "execution_count": 231,
   "id": "16a5e756-c6e7-4a0c-978b-77366b08a80f",
   "metadata": {},
   "outputs": [],
   "source": [
    "def get_vader_sentiment(text):\n",
    "    if pd.isnull(text):\n",
    "        return None\n",
    "    return vader.polarity_scores(str(text))  # ensure string input\n",
    "\n",
    "# Add sentiment scores\n",
    "sampled_df['vader_scores'] = sampled_df['subjective'].apply(get_vader_sentiment)\n",
    "\n",
    "# If you want just the compound score (overall sentiment)\n",
    "sampled_df['vader_compound'] = sampled_df['vader_scores'].apply(lambda x: x['compound'] if x else None)"
   ]
  },
  {
   "cell_type": "code",
   "execution_count": 232,
   "id": "17ebab42-f8ec-469e-acc7-00fb624c99c9",
   "metadata": {},
   "outputs": [
    {
     "name": "stdout",
     "output_type": "stream",
     "text": [
      "26830   -0.9667\n",
      "17497   -0.9410\n",
      "277         NaN\n",
      "13735   -0.9201\n",
      "32674   -0.9839\n",
      "Name: vader_compound, dtype: float64\n"
     ]
    }
   ],
   "source": [
    "print(sampled_df['vader_compound'].head())"
   ]
  },
  {
   "cell_type": "code",
   "execution_count": 235,
   "id": "8d2a818b-8ca7-4b5c-a8a4-d23533933149",
   "metadata": {},
   "outputs": [],
   "source": [
    "def classify_sentiment(compound_score):\n",
    "    if compound_score >= 0.05:\n",
    "        return \"POSITIVE\"\n",
    "    elif compound_score <= -0.05:\n",
    "        return \"NEGATIVE\"\n",
    "    else:\n",
    "        return \"NEUTRAL\"\n",
    "\n",
    "sampled_df['vader_label'] = sampled_df['vader_compound'].apply(classify_sentiment)\n"
   ]
  },
  {
   "cell_type": "code",
   "execution_count": 236,
   "id": "0f6593eb-5be4-4400-992e-bf1fe70d3fbf",
   "metadata": {},
   "outputs": [
    {
     "name": "stdout",
     "output_type": "stream",
     "text": [
      "transformer_label  NEGATIVE  POSITIVE\n",
      "vader_label                          \n",
      "NEGATIVE                722        38\n",
      "NEUTRAL                   9         3\n",
      "POSITIVE                 86         7\n"
     ]
    }
   ],
   "source": [
    "sampled_df['transformer_label'] = sampled_df['sentiment'].apply(\n",
    "    lambda x: x['label'] if isinstance(x, dict) and 'label' in x else None\n",
    ")\n",
    "# Create a crosstab of VADER vs Transformer sentiment labels\n",
    "comparison_table = pd.crosstab(sampled_df['vader_label'], sampled_df['transformer_label'])\n",
    "\n",
    "print(comparison_table)"
   ]
  },
  {
   "cell_type": "code",
   "execution_count": 237,
   "id": "3bda8ef7-4348-457c-9307-a4790ac354cd",
   "metadata": {},
   "outputs": [
    {
     "name": "stdout",
     "output_type": "stream",
     "text": [
      "Agreement rate: 72.90%\n"
     ]
    }
   ],
   "source": [
    "# Compare labels directly\n",
    "sampled_df['sentiment_agreement'] = sampled_df['vader_label'] == sampled_df['transformer_label']\n",
    "\n",
    "# Show agreement rate\n",
    "agreement_rate = sampled_df['sentiment_agreement'].mean()\n",
    "print(f\"Agreement rate: {agreement_rate:.2%}\")"
   ]
  },
  {
   "cell_type": "code",
   "execution_count": 238,
   "id": "2ea9fc96-4511-4623-8b41-014959eb6740",
   "metadata": {},
   "outputs": [
    {
     "data": {
      "image/png": "[encoded data removed]",
      "text/plain": [
       "<Figure size 600x400 with 2 Axes>"
      ]
     },
     "metadata": {},
     "output_type": "display_data"
    }
   ],
   "source": [
    "import seaborn as sns\n",
    "import matplotlib.pyplot as plt\n",
    "\n",
    "plt.figure(figsize=(6, 4))\n",
    "sns.heatmap(comparison_table, annot=True, fmt='d', cmap='Blues')\n",
    "plt.title('VADER vs Transformer Sentiment Labels')\n",
    "plt.ylabel('VADER')\n",
    "plt.xlabel('Transformer')\n",
    "plt.tight_layout()\n",
    "plt.show()"
   ]
  },
  {
   "cell_type": "code",
   "execution_count": 239,
   "id": "fa8b0b38-a7a7-4d41-9af9-c507c1e11939",
   "metadata": {},
   "outputs": [],
   "source": [
    "# Get transformer label and score\n",
    "sampled_df['transformer_label'] = sampled_df['sentiment'].apply(\n",
    "    lambda x: x['label'] if isinstance(x, dict) else None\n",
    ")\n",
    "sampled_df['transformer_score'] = sampled_df['sentiment'].apply(\n",
    "    lambda x: x['score'] if isinstance(x, dict) else None\n",
    ")\n"
   ]
  },
  {
   "cell_type": "code",
   "execution_count": 240,
   "id": "ef1921ef-bf14-482b-abeb-ccb7870aa30b",
   "metadata": {},
   "outputs": [],
   "source": [
    "# Define mask for extreme disagreements\n",
    "extreme_disagreement_mask = (\n",
    "    ((sampled_df['vader_label'] == 'POSITIVE') & (sampled_df['transformer_label'] == 'NEGATIVE')) |\n",
    "    ((sampled_df['vader_label'] == 'NEGATIVE') & (sampled_df['transformer_label'] == 'POSITIVE'))\n",
    ")\n",
    "\n",
    "# Optional: add score threshold to focus on confident classifications\n",
    "confident_disagreement = sampled_df[extreme_disagreement_mask].copy()\n",
    "confident_disagreement = confident_disagreement[\n",
    "    confident_disagreement['transformer_score'] >= 0.90\n",
    "]"
   ]
  },
  {
   "cell_type": "code",
   "execution_count": 241,
   "id": "42f995c3-862d-430d-a20b-f22ed05c9214",
   "metadata": {},
   "outputs": [
    {
     "data": {
      "text/html": [
       "<div>\n",
       "<style scoped>\n",
       "    .dataframe tbody tr th:only-of-type {\n",
       "        vertical-align: middle;\n",
       "    }\n",
       "\n",
       "    .dataframe tbody tr th {\n",
       "        vertical-align: top;\n",
       "    }\n",
       "\n",
       "    .dataframe thead th {\n",
       "        text-align: right;\n",
       "    }\n",
       "</style>\n",
       "<table border=\"1\" class=\"dataframe\">\n",
       "  <thead>\n",
       "    <tr style=\"text-align: right;\">\n",
       "      <th></th>\n",
       "      <th>subjective</th>\n",
       "      <th>vader_label</th>\n",
       "      <th>transformer_label</th>\n",
       "      <th>transformer_score</th>\n",
       "    </tr>\n",
       "  </thead>\n",
       "  <tbody>\n",
       "    <tr>\n",
       "      <th>18223</th>\n",
       "      <td>Subjective:   REASON FOR VISIT/CC: Follow-up a...</td>\n",
       "      <td>POSITIVE</td>\n",
       "      <td>NEGATIVE</td>\n",
       "      <td>0.998517</td>\n",
       "    </tr>\n",
       "    <tr>\n",
       "      <th>8122</th>\n",
       "      <td>Subjective    Danielle Chambers is a 33 y.o. f...</td>\n",
       "      <td>POSITIVE</td>\n",
       "      <td>NEGATIVE</td>\n",
       "      <td>0.998202</td>\n",
       "    </tr>\n",
       "    <tr>\n",
       "      <th>3835</th>\n",
       "      <td>Subjective:   REASON FOR VISIT/CC: Follow-up (...</td>\n",
       "      <td>POSITIVE</td>\n",
       "      <td>NEGATIVE</td>\n",
       "      <td>0.997823</td>\n",
       "    </tr>\n",
       "    <tr>\n",
       "      <th>2772</th>\n",
       "      <td>Chief Complaint: CKD  Chief Complaint         ...</td>\n",
       "      <td>POSITIVE</td>\n",
       "      <td>NEGATIVE</td>\n",
       "      <td>0.997763</td>\n",
       "    </tr>\n",
       "    <tr>\n",
       "      <th>16181</th>\n",
       "      <td>chief complaint of lupus and lupus nephritis. ...</td>\n",
       "      <td>POSITIVE</td>\n",
       "      <td>NEGATIVE</td>\n",
       "      <td>0.997685</td>\n",
       "    </tr>\n",
       "    <tr>\n",
       "      <th>12564</th>\n",
       "      <td>Subjective    John Robert Levitt is a 79 y.o. ...</td>\n",
       "      <td>POSITIVE</td>\n",
       "      <td>NEGATIVE</td>\n",
       "      <td>0.997671</td>\n",
       "    </tr>\n",
       "    <tr>\n",
       "      <th>16185</th>\n",
       "      <td>chief complaint of lupus and lupus nephritis. ...</td>\n",
       "      <td>POSITIVE</td>\n",
       "      <td>NEGATIVE</td>\n",
       "      <td>0.997650</td>\n",
       "    </tr>\n",
       "    <tr>\n",
       "      <th>22225</th>\n",
       "      <td>chief complaint of immune complex glomerulonep...</td>\n",
       "      <td>POSITIVE</td>\n",
       "      <td>NEGATIVE</td>\n",
       "      <td>0.997279</td>\n",
       "    </tr>\n",
       "    <tr>\n",
       "      <th>6237</th>\n",
       "      <td>Chief Complaint: New patient visit for CKD and...</td>\n",
       "      <td>POSITIVE</td>\n",
       "      <td>NEGATIVE</td>\n",
       "      <td>0.997272</td>\n",
       "    </tr>\n",
       "    <tr>\n",
       "      <th>30496</th>\n",
       "      <td>Subjective:   REASON FOR VISIT/CC: Follow-up  ...</td>\n",
       "      <td>POSITIVE</td>\n",
       "      <td>NEGATIVE</td>\n",
       "      <td>0.997169</td>\n",
       "    </tr>\n",
       "  </tbody>\n",
       "</table>\n",
       "</div>"
      ],
      "text/plain": [
       "                                              subjective vader_label  \\\n",
       "18223  Subjective:   REASON FOR VISIT/CC: Follow-up a...    POSITIVE   \n",
       "8122   Subjective    Danielle Chambers is a 33 y.o. f...    POSITIVE   \n",
       "3835   Subjective:   REASON FOR VISIT/CC: Follow-up (...    POSITIVE   \n",
       "2772   Chief Complaint: CKD  Chief Complaint         ...    POSITIVE   \n",
       "16181  chief complaint of lupus and lupus nephritis. ...    POSITIVE   \n",
       "12564  Subjective    John Robert Levitt is a 79 y.o. ...    POSITIVE   \n",
       "16185  chief complaint of lupus and lupus nephritis. ...    POSITIVE   \n",
       "22225  chief complaint of immune complex glomerulonep...    POSITIVE   \n",
       "6237   Chief Complaint: New patient visit for CKD and...    POSITIVE   \n",
       "30496  Subjective:   REASON FOR VISIT/CC: Follow-up  ...    POSITIVE   \n",
       "\n",
       "      transformer_label  transformer_score  \n",
       "18223          NEGATIVE           0.998517  \n",
       "8122           NEGATIVE           0.998202  \n",
       "3835           NEGATIVE           0.997823  \n",
       "2772           NEGATIVE           0.997763  \n",
       "16181          NEGATIVE           0.997685  \n",
       "12564          NEGATIVE           0.997671  \n",
       "16185          NEGATIVE           0.997650  \n",
       "22225          NEGATIVE           0.997279  \n",
       "6237           NEGATIVE           0.997272  \n",
       "30496          NEGATIVE           0.997169  "
      ]
     },
     "execution_count": 241,
     "metadata": {},
     "output_type": "execute_result"
    }
   ],
   "source": [
    "# Sort by descending confidence\n",
    "confident_disagreement = confident_disagreement.sort_values(by='transformer_score', ascending=False)\n",
    "\n",
    "# Show top few cases\n",
    "confident_disagreement[['subjective', 'vader_label', 'transformer_label', 'transformer_score']].head(10)"
   ]
  },
  {
   "cell_type": "code",
   "execution_count": 242,
   "id": "7225943f-8425-48b2-9716-1126c3118010",
   "metadata": {},
   "outputs": [
    {
     "name": "stdout",
     "output_type": "stream",
     "text": [
      "Subjective:   REASON FOR VISIT/CC: Follow-up and Chronic Kidney Disease       INTERVAL HISTORY FROM LAST VISIT:   Patient last seen 4.30.21.  Since last visit, patient reports continued dizziness.  Notes worsened after taking dose of verapamil 100mg and losartan 25mg PM doses.  In the past, removed the PM dose of losartan and she becomes hypertensive.  Otherwise, repeat  Mercury 24 hour level negative (unclear why serum was positive but now downtrending, original work up started with PMD).     Patient notes work changing insurance.  Switching care to San Carlos nephrologist- Dr. Jenny Lee.       Current\n"
     ]
    }
   ],
   "source": [
    "print(confident_disagreement['subjective'].iloc[0])"
   ]
  },
  {
   "cell_type": "code",
   "execution_count": 243,
   "id": "dc0b49e6-a95a-46e7-b75f-034e597cd278",
   "metadata": {},
   "outputs": [
    {
     "name": "stdout",
     "output_type": "stream",
     "text": [
      "Subjective    Danielle Chambers is a 33 y.o. female who presents with the following:    Chief Complaint              Hypertension, unspecified type     Follow-up             I performed this evaluation using real-time telehealth tools, including a live video Zoom connection between my location and the patient's location. Prior to initiating, the patient consented to perform this evaluation using telehealth tools.     History of Present Illness   Danielle Chambers is a 33 y.o.. female with a past medical history significant for lupus and lupus nephritis who presented in Feb 2016 to reestablish care at UCSF.      The patient reports that she was diagnosed with lupus at the age of 4, and was treated primarily with prednisone.  Reviewing the records that are available to me, the patient does not appear to have been on other immunosuppressants.  She received a kidney biopsy in 1996 which showed an immune complex GN with tubuloreticular inclusions, subepithelial and subendothelial deposits and some intramembranous deposits, which may have been consistent with class III/V lupus nephritis at the time.  It is somewhat unclear to me how she was treated, although from her records it appears that as of 2010 she had no proteinuria at all (UPC was 0.09) and the same was true in 2011 (UPC 0.04).       However, the patient reports that she was subsequently transferred to local physicians in her area, who have been unable to provide her with adequate care since 2012.  Records available to me show that she saw Dr. Wynne (a rheumatologist)?  In her local area, and had labs in 2015 which showed a serum creatinine of 0.9, RBC > 50, and >300 protein on urine dipstick (with no quantification of her actual protein/cre ratio).  Her last serum creatinine in our system was in 2008 and in the  0.6 range.  She has a history of multiple drug reactions to various antibiotics, including possible facial swelling (no angioedema) with bactrim, as well as multiple rashes related to various antibiotics.  She has not had Stevens Johnson as far as I can tell, or true anaphylactic reactions.  She denies ever being put on an anti-hypertensive medication such as losartan, or any immunosuppressant agents such as cellcept.        She received a kidney biopsy on 3/23/16 which showed focal proliferative, necrotizing and sclerosing GN consistent with class III lupus nephritis with mild IFTA.  Her biopsy was somewhat atypical given predominant IgA staining, although given her history of lupus and her race, it was still thought that lupus was more likely compared to IgA nephropathy.  She was started on prednisone and cellcept.    She has been weaned down on the prednisone slowly over time. She could not tolerate a full dose of cellcept due to night sweats/palpitations.       She had worsening proteinuria in Sept through Dec 2021 and refused a repeat biopsy.  She was reinitiated on pulse steroids which worked slowly to improve her proteinuria.  She then finally agreed to a biopsy which was performed in February 2021 and showed mild chronicity with class II lupus nephritis only.      Interval history:      Feeling in general OK       Now seeing Dr. French for rheumatology care     Taking iron every day and without any issues   Constipation is controlled    No rashes or joint pain    Cataract surgery is planned but currently she has no transportation as sister got into a car accident - she would need to take a uber to get labs    Taking losartan 25 mg daily    Taking vitamin D once a week     Prednisone is 1 mg daily     BP 116/70 in May 2024 cre was 1.11 seen in ED for nausea and headache and was told she had a bug then  K 3.7  2+ protein in urine dip    Loves fried chicken but trying to limit due to high cholesterol\n"
     ]
    }
   ],
   "source": [
    "print(confident_disagreement['subjective'].iloc[1])"
   ]
  },
  {
   "cell_type": "code",
   "execution_count": 244,
   "id": "ec3e86e3-f857-423b-bedb-1f58927d98dd",
   "metadata": {},
   "outputs": [
    {
     "name": "stdout",
     "output_type": "stream",
     "text": [
      "Subjective:   REASON FOR VISIT/CC: Follow-up (CKD (chronic kidney disease), stage III (HCC))    History of recurrent AKI episodes concurrent with hypotension that resolves with increased hydration.     3/2019.  slight increase in weight since last visit. (previously able to intentionally lose ~20lbs of weight with carbohydrate avoidance since 2017)      INTERVAL HISTORY:   Last seen in renal clinic 9/2019  Trying to stay as hydrated as possible  Reports missing medications on occasion.     Complaining of daytime somnolence and poor sleep onset with seroquel. Stating that he functions better without seroquel    Because he takes all of his medications at once (at bedtime), he misses his medications such as lisinopril because he wishes to skip his seroquel dose Prescribed lisinopril 10mg daily. Does not regularly check his BP at home.     Now back to work at a church, parttime in the office, states it is low stress and a positive sign in his life. But he is lo longer under care at LPPI.  Ongoing issues with disordered sleep  Ongoing B12 injections    Hasn't been able to exercise regularly. Been gaining weight, but knows the importance of weight loss. Lacks motivation to exercise.    PMH and PSH reviewed and updated when appropriate.  FH and SH reviewed and unchanged    Current\n"
     ]
    }
   ],
   "source": [
    "print(confident_disagreement['subjective'].iloc[2])"
   ]
  },
  {
   "cell_type": "code",
   "execution_count": 245,
   "id": "55dae0b2-c541-45b3-bf8b-3489085da299",
   "metadata": {},
   "outputs": [
    {
     "name": "stdout",
     "output_type": "stream",
     "text": [
      "VADER Label Counts by Telehealth Type:\n",
      "vader_label       NEGATIVE  NEUTRAL  POSITIVE\n",
      "Telehealth                                   \n",
      "In-person              232       79        25\n",
      "Telehealth Video       528       68        68\n",
      "\n",
      "Transformer Label Counts by Telehealth Type:\n",
      "transformer_label  NEGATIVE  POSITIVE\n",
      "Telehealth                           \n",
      "In-person               247        14\n",
      "Telehealth Video        570        34\n"
     ]
    }
   ],
   "source": [
    "vader_counts = pd.crosstab(sampled_df['Telehealth'], sampled_df['vader_label'])\n",
    "transformer_counts = pd.crosstab(sampled_df['Telehealth'], sampled_df['transformer_label'])\n",
    "\n",
    "print(\"VADER Label Counts by Telehealth Type:\")\n",
    "print(vader_counts)\n",
    "\n",
    "print(\"\\nTransformer Label Counts by Telehealth Type:\")\n",
    "print(transformer_counts)"
   ]
  },
  {
   "cell_type": "code",
   "execution_count": 259,
   "id": "902bf19b-a97f-4e5f-a0e0-f83134c2ef72",
   "metadata": {},
   "outputs": [
    {
     "data": {
      "image/png": "[encoded data removed]",
      "text/plain": [
       "<Figure size 1200x500 with 2 Axes>"
      ]
     },
     "metadata": {},
     "output_type": "display_data"
    }
   ],
   "source": [
    "# Melt for plotting\n",
    "vader_melted = sampled_df[['Telehealth', 'vader_label']].dropna()\n",
    "transformer_melted = sampled_df[['Telehealth', 'transformer_label']].dropna()\n",
    "\n",
    "plt.figure(figsize=(12, 5))\n",
    "\n",
    "# VADER\n",
    "plt.subplot(1, 2, 1)\n",
    "sns.countplot(data=vader_melted, x='Telehealth', hue='vader_label')\n",
    "plt.title(\"VADER Sentiment Label Distribution\")\n",
    "plt.ylabel(\"Count\")\n",
    "\n",
    "# Transformer\n",
    "plt.subplot(1, 2, 2)\n",
    "sns.countplot(data=transformer_melted, x='Telehealth', hue='transformer_label')\n",
    "plt.title(\"Transformer Sentiment Label Distribution\")\n",
    "plt.ylabel(\"Count\")\n",
    "\n",
    "plt.tight_layout()\n",
    "plt.show()"
   ]
  },
  {
   "cell_type": "code",
   "execution_count": 260,
   "id": "c73caf7d-62eb-4b03-8373-7e9389ba1c6a",
   "metadata": {},
   "outputs": [],
   "source": [
    "conditions = [\n",
    "    (sampled_df['vader_label'] == 'NEGATIVE') & (sampled_df['transformer_label'] == 'NEGATIVE'),\n",
    "    (sampled_df['vader_label'] == 'POSITIVE') & (sampled_df['transformer_label'] == 'POSITIVE')\n",
    "]\n",
    "\n",
    "choices = ['NEGATIVE', 'POSITIVE']\n",
    "\n",
    "# Default is 'UNCLEAR' when the labels disagree\n",
    "sampled_df['combined_label'] = np.select(conditions, choices, default='UNCLEAR')"
   ]
  },
  {
   "cell_type": "code",
   "execution_count": 263,
   "id": "35e0b998-6317-4644-beb4-2cdb0a377627",
   "metadata": {},
   "outputs": [
    {
     "name": "stdout",
     "output_type": "stream",
     "text": [
      "combined_label\n",
      "NEGATIVE    722\n",
      "UNCLEAR     271\n",
      "POSITIVE      7\n",
      "Name: count, dtype: int64\n"
     ]
    }
   ],
   "source": [
    "print(sampled_df['combined_label'].value_counts(dropna=False))"
   ]
  },
  {
   "cell_type": "code",
   "execution_count": 265,
   "id": "565c516b-4ac4-4e83-93b2-d1767881f862",
   "metadata": {},
   "outputs": [
    {
     "name": "stdout",
     "output_type": "stream",
     "text": [
      "combined_label    NEGATIVE  POSITIVE  UNCLEAR\n",
      "Telehealth                                   \n",
      "In-person              220         1      115\n",
      "Telehealth Video       502         6      156\n"
     ]
    }
   ],
   "source": [
    "combined_counts = pd.crosstab(sampled_df['Telehealth'], sampled_df['combined_label'])\n",
    "print(combined_counts)"
   ]
  },
  {
   "cell_type": "code",
   "execution_count": 266,
   "id": "8aa2c1d7-8395-4463-83d9-86a74b625884",
   "metadata": {},
   "outputs": [
    {
     "data": {
      "image/png": "[encoded data removed]",
      "text/plain": [
       "<Figure size 800x600 with 1 Axes>"
      ]
     },
     "metadata": {},
     "output_type": "display_data"
    }
   ],
   "source": [
    "combined_counts.plot(kind='bar', stacked=True, colormap='Set2', figsize=(8, 6))\n",
    "\n",
    "plt.title('Distribution of Combined Sentiment Labels by Visit Type')\n",
    "plt.xlabel('Visit Type')\n",
    "plt.ylabel('Number of Notes')\n",
    "plt.legend(title='Combined Sentiment')\n",
    "plt.xticks(rotation=0)\n",
    "plt.tight_layout()\n",
    "plt.show()"
   ]
  },
  {
   "cell_type": "code",
   "execution_count": 267,
   "id": "6d920a8b-6c4c-43ab-9fc8-e8453d88d127",
   "metadata": {},
   "outputs": [
    {
     "name": "stdout",
     "output_type": "stream",
     "text": [
      "Chi-square statistic: 13.821384782745387\n",
      "Degrees of freedom: 2\n",
      "P-value: 0.0009970671967042435\n",
      "\n",
      "Expected frequencies:\n",
      " [[242.592   2.352  91.056]\n",
      " [479.408   4.648 179.944]]\n"
     ]
    }
   ],
   "source": [
    "from scipy.stats import chi2_contingency\n",
    "\n",
    "# Create the contingency table\n",
    "contingency_table = pd.crosstab(sampled_df['Telehealth'], sampled_df['combined_label'])\n",
    "\n",
    "# Run Chi-square test\n",
    "chi2, p, dof, expected = chi2_contingency(contingency_table)\n",
    "\n",
    "# Output results\n",
    "print(\"Chi-square statistic:\", chi2)\n",
    "print(\"Degrees of freedom:\", dof)\n",
    "print(\"P-value:\", p)\n",
    "print(\"\\nExpected frequencies:\\n\", expected)"
   ]
  },
  {
   "cell_type": "code",
   "execution_count": 268,
   "id": "9847c9bd-67c7-48e0-b103-f004e048240f",
   "metadata": {},
   "outputs": [
    {
     "name": "stdout",
     "output_type": "stream",
     "text": [
      "2x2 contingency table:\n",
      " is_positive       False  True \n",
      "Telehealth                    \n",
      "In-person           335      1\n",
      "Telehealth Video    658      6\n",
      "Fisher's Exact Test p-value: 0.43420897482832976\n"
     ]
    }
   ],
   "source": [
    "from scipy.stats import fisher_exact\n",
    "\n",
    "# Collapse categories into POSITIVE vs NOT POSITIVE\n",
    "sampled_df['is_positive'] = sampled_df['combined_label'] == 'POSITIVE'\n",
    "\n",
    "# Create 2x2 table: rows = Telehealth type, columns = POSITIVE vs NOT POSITIVE\n",
    "table_2x2 = pd.crosstab(sampled_df['Telehealth'], sampled_df['is_positive'])\n",
    "\n",
    "# Run Fisher's Exact Test\n",
    "oddsratio, p_value = fisher_exact(table_2x2)\n",
    "\n",
    "print(\"2x2 contingency table:\\n\", table_2x2)\n",
    "print(\"Fisher's Exact Test p-value:\", p_value)"
   ]
  },
  {
   "cell_type": "code",
   "execution_count": 4,
   "id": "d63cd1cd-157f-486c-aac4-9d64555378d3",
   "metadata": {},
   "outputs": [
    {
     "ename": "ValueError",
     "evalue": "'data' contains 21820 incomplete rows.",
     "output_type": "error",
     "traceback": [
      "\u001b[1;31m---------------------------------------------------------------------------\u001b[0m",
      "\u001b[1;31mValueError\u001b[0m                                Traceback (most recent call last)",
      "Cell \u001b[1;32mIn[4], line 1\u001b[0m\n\u001b[1;32m----> 1\u001b[0m model \u001b[38;5;241m=\u001b[39m \u001b[43mbmb\u001b[49m\u001b[38;5;241;43m.\u001b[39;49m\u001b[43mModel\u001b[49m\u001b[43m(\u001b[49m\n\u001b[0;32m      2\u001b[0m \u001b[43m    \u001b[49m\u001b[38;5;124;43m\"\u001b[39;49m\u001b[38;5;124;43mmed_changes_count ~ Telehealth + SEX_ASSIGNED_AT_BIRTH + AGE_AT_ENCOUNTER_s + \u001b[39;49m\u001b[38;5;124;43m\"\u001b[39;49m\n\u001b[0;32m      3\u001b[0m \u001b[43m    \u001b[49m\u001b[38;5;124;43m\"\u001b[39;49m\u001b[38;5;124;43mRACE_ETHNICITY2 + New_Old + Time_since_last_visit_s + meds_count_s + \u001b[39;49m\u001b[38;5;124;43m\"\u001b[39;49m\n\u001b[0;32m      4\u001b[0m \u001b[43m    \u001b[49m\u001b[38;5;124;43m\"\u001b[39;49m\u001b[38;5;124;43megfr_s + PMHX_DM + PMHX_HTN + \u001b[39;49m\u001b[38;5;124;43m\"\u001b[39;49m\n\u001b[0;32m      5\u001b[0m \u001b[43m    \u001b[49m\u001b[38;5;124;43m\"\u001b[39;49m\u001b[38;5;124;43m(1 + Telehealth | UCSF_MRN) + (1 | ENCOUNTER_NOTE_AUTHOR)\u001b[39;49m\u001b[38;5;124;43m\"\u001b[39;49m\u001b[43m,\u001b[49m\n\u001b[0;32m      6\u001b[0m \u001b[43m    \u001b[49m\u001b[43mdf\u001b[49m\u001b[43m,\u001b[49m\n\u001b[0;32m      7\u001b[0m \u001b[43m    \u001b[49m\u001b[43mfamily\u001b[49m\u001b[38;5;241;43m=\u001b[39;49m\u001b[38;5;124;43m\"\u001b[39;49m\u001b[38;5;124;43mnegativebinomial\u001b[39;49m\u001b[38;5;124;43m\"\u001b[39;49m\n\u001b[0;32m      8\u001b[0m \u001b[43m)\u001b[49m\n\u001b[0;32m     10\u001b[0m results \u001b[38;5;241m=\u001b[39m model\u001b[38;5;241m.\u001b[39mfit(draws\u001b[38;5;241m=\u001b[39m\u001b[38;5;241m1000\u001b[39m, chains\u001b[38;5;241m=\u001b[39m\u001b[38;5;241m4\u001b[39m)\n\u001b[0;32m     11\u001b[0m az\u001b[38;5;241m.\u001b[39msummary(results)\n",
      "File \u001b[1;32m~\\anaconda3\\lib\\site-packages\\bambi\\models.py:168\u001b[0m, in \u001b[0;36mModel.__init__\u001b[1;34m(self, formula, data, family, priors, link, categorical, potentials, dropna, auto_scale, noncentered, center_predictors, extra_namespace)\u001b[0m\n\u001b[0;32m    166\u001b[0m     design \u001b[38;5;241m=\u001b[39m remove_common_intercept(design)\n\u001b[0;32m    167\u001b[0m \u001b[38;5;28;01melse\u001b[39;00m:\n\u001b[1;32m--> 168\u001b[0m     design \u001b[38;5;241m=\u001b[39m \u001b[43mfm\u001b[49m\u001b[38;5;241;43m.\u001b[39;49m\u001b[43mdesign_matrices\u001b[49m\u001b[43m(\u001b[49m\n\u001b[0;32m    169\u001b[0m \u001b[43m        \u001b[49m\u001b[38;5;28;43mself\u001b[39;49m\u001b[38;5;241;43m.\u001b[39;49m\u001b[43mformula\u001b[49m\u001b[38;5;241;43m.\u001b[39;49m\u001b[43mmain\u001b[49m\u001b[43m,\u001b[49m\u001b[43m \u001b[49m\u001b[38;5;28;43mself\u001b[39;49m\u001b[38;5;241;43m.\u001b[39;49m\u001b[43mdata\u001b[49m\u001b[43m,\u001b[49m\u001b[43m \u001b[49m\u001b[43mna_action\u001b[49m\u001b[43m,\u001b[49m\u001b[43m \u001b[49m\u001b[38;5;241;43m1\u001b[39;49m\u001b[43m,\u001b[49m\u001b[43m \u001b[49m\u001b[43madditional_namespace\u001b[49m\n\u001b[0;32m    170\u001b[0m \u001b[43m    \u001b[49m\u001b[43m)\u001b[49m\n\u001b[0;32m    172\u001b[0m \u001b[38;5;28;01mif\u001b[39;00m design\u001b[38;5;241m.\u001b[39mresponse \u001b[38;5;129;01mis\u001b[39;00m \u001b[38;5;28;01mNone\u001b[39;00m:\n\u001b[0;32m    173\u001b[0m     \u001b[38;5;28;01mraise\u001b[39;00m \u001b[38;5;167;01mValueError\u001b[39;00m(\n\u001b[0;32m    174\u001b[0m         \u001b[38;5;124m\"\u001b[39m\u001b[38;5;124mNo outcome variable is set! \u001b[39m\u001b[38;5;124m\"\u001b[39m\n\u001b[0;32m    175\u001b[0m         \u001b[38;5;124m\"\u001b[39m\u001b[38;5;124mPlease specify an outcome variable using the formula interface.\u001b[39m\u001b[38;5;124m\"\u001b[39m\n\u001b[0;32m    176\u001b[0m     )\n",
      "File \u001b[1;32m~\\anaconda3\\lib\\site-packages\\formulae\\matrices.py:554\u001b[0m, in \u001b[0;36mdesign_matrices\u001b[1;34m(formula, data, na_action, env, extra_namespace)\u001b[0m\n\u001b[0;32m    552\u001b[0m         data \u001b[38;5;241m=\u001b[39m data[\u001b[38;5;241m~\u001b[39mincomplete_rows]\n\u001b[0;32m    553\u001b[0m     \u001b[38;5;28;01melse\u001b[39;00m:\n\u001b[1;32m--> 554\u001b[0m         \u001b[38;5;28;01mraise\u001b[39;00m \u001b[38;5;167;01mValueError\u001b[39;00m(\u001b[38;5;124mf\u001b[39m\u001b[38;5;124m\"\u001b[39m\u001b[38;5;124m'\u001b[39m\u001b[38;5;124mdata\u001b[39m\u001b[38;5;124m'\u001b[39m\u001b[38;5;124m contains \u001b[39m\u001b[38;5;132;01m{\u001b[39;00mincomplete_rows_n\u001b[38;5;132;01m}\u001b[39;00m\u001b[38;5;124m incomplete rows.\u001b[39m\u001b[38;5;124m\"\u001b[39m)\n\u001b[0;32m    556\u001b[0m design \u001b[38;5;241m=\u001b[39m DesignMatrices(description, data, env)\n\u001b[0;32m    557\u001b[0m \u001b[38;5;28;01mreturn\u001b[39;00m design\n",
      "\u001b[1;31mValueError\u001b[0m: 'data' contains 21820 incomplete rows."
     ]
    }
   ],
   "source": [
    "model = bmb.Model(\n",
    "    \"med_changes_count ~ Telehealth + SEX_ASSIGNED_AT_BIRTH + AGE_AT_ENCOUNTER_s + \"\n",
    "    \"RACE_ETHNICITY2 + New_Old + Time_since_last_visit_s + meds_count_s + \"\n",
    "    \"egfr_s + PMHX_DM + PMHX_HTN + \"\n",
    "    \"(1 + Telehealth | UCSF_MRN) + (1 | ENCOUNTER_NOTE_AUTHOR)\",\n",
    "    df,\n",
    "    family=\"negativebinomial\"\n",
    ")\n",
    "\n",
    "results = model.fit(draws=1000, chains=4)\n",
    "az.summary(results)"
   ]
  },
  {
   "cell_type": "code",
   "execution_count": 5,
   "id": "579dc4f6-e0f8-498e-bc1e-366a6d411bb5",
   "metadata": {},
   "outputs": [
    {
     "data": {
      "text/plain": [
       "med_changes_count              0\n",
       "Telehealth                     0\n",
       "SEX_ASSIGNED_AT_BIRTH          0\n",
       "AGE_AT_ENCOUNTER_s             0\n",
       "RACE_ETHNICITY2                0\n",
       "New_Old                        0\n",
       "Time_since_last_visit_s        0\n",
       "meds_count_s                   0\n",
       "egfr_s                     21800\n",
       "PMHX_DM                        0\n",
       "PMHX_HTN                       0\n",
       "UCSF_MRN                       0\n",
       "ENCOUNTER_NOTE_AUTHOR         64\n",
       "dtype: int64"
      ]
     },
     "execution_count": 5,
     "metadata": {},
     "output_type": "execute_result"
    }
   ],
   "source": [
    "df[[\n",
    "    \"med_changes_count\", \"Telehealth\", \"SEX_ASSIGNED_AT_BIRTH\", \"AGE_AT_ENCOUNTER_s\",\n",
    "    \"RACE_ETHNICITY2\", \"New_Old\", \"Time_since_last_visit_s\", \"meds_count_s\",\n",
    "    \"egfr_s\", \"PMHX_DM\", \"PMHX_HTN\", \"UCSF_MRN\", \"ENCOUNTER_NOTE_AUTHOR\"\n",
    "]].isnull().sum()"
   ]
  },
  {
   "cell_type": "code",
   "execution_count": 6,
   "id": "2e8e373b-94f2-457d-80c0-9b901733f772",
   "metadata": {},
   "outputs": [],
   "source": [
    "model_df = df.dropna(subset=[\n",
    "    \"med_changes_count\", \"Telehealth\", \"SEX_ASSIGNED_AT_BIRTH\", \"AGE_AT_ENCOUNTER_s\",\n",
    "    \"RACE_ETHNICITY2\", \"New_Old\", \"Time_since_last_visit_s\", \"meds_count_s\",\n",
    "    \"egfr_s\", \"PMHX_DM\", \"PMHX_HTN\", \"UCSF_MRN\", \"ENCOUNTER_NOTE_AUTHOR\"\n",
    "])"
   ]
  },
  {
   "cell_type": "code",
   "execution_count": null,
   "id": "529732b8-fd32-489e-a46e-098ff1a58a7d",
   "metadata": {},
   "outputs": [
    {
     "name": "stderr",
     "output_type": "stream",
     "text": [
      "Auto-assigning NUTS sampler...\n",
      "Initializing NUTS using jitter+adapt_diag...\n",
      "Multiprocess sampling (4 chains in 4 jobs)\n",
      "NUTS: [med_changes_count_alpha, Intercept, Telehealth, SEX_ASSIGNED_AT_BIRTH, AGE_AT_ENCOUNTER_s, RACE_ETHNICITY2, New_Old, Time_since_last_visit_s, meds_count_s, egfr_s, PMHX_DM, PMHX_HTN, 1|UCSF_MRN_sigma, 1|UCSF_MRN_offset, Telehealth|UCSF_MRN_sigma, Telehealth|UCSF_MRN_offset, 1|ENCOUNTER_NOTE_AUTHOR_sigma, 1|ENCOUNTER_NOTE_AUTHOR_offset]\n"
     ]
    },
    {
     "data": {
      "text/html": [
       "\n",
       "<style>\n",
       "    /* Turns off some styling */\n",
       "    progress {\n",
       "        /* gets rid of default border in Firefox and Opera. */\n",
       "        border: none;\n",
       "        /* Needs to be in here for Safari polyfill so background images work as expected. */\n",
       "        background-size: auto;\n",
       "    }\n",
       "    progress:not([value]), progress:not([value])::-webkit-progress-bar {\n",
       "        background: repeating-linear-gradient(45deg, #7e7e7e, #7e7e7e 10px, #5c5c5c 10px, #5c5c5c 20px);\n",
       "    }\n",
       "    .progress-bar-interrupted, .progress-bar-interrupted::-webkit-progress-bar {\n",
       "        background: #F44336;\n",
       "    }\n",
       "</style>\n"
      ],
      "text/plain": [
       "<IPython.core.display.HTML object>"
      ]
     },
     "metadata": {},
     "output_type": "display_data"
    },
    {
     "data": {
      "text/html": [
       "\n",
       "    <div>\n",
       "      <progress value='25' class='' max='8000' style='width:300px; height:20px; vertical-align: middle;'></progress>\n",
       "      0.31% [25/8000 04:45&lt;25:17:00 Sampling 4 chains, 0 divergences]\n",
       "    </div>\n",
       "    "
      ],
      "text/plain": [
       "<IPython.core.display.HTML object>"
      ]
     },
     "metadata": {},
     "output_type": "display_data"
    }
   ],
   "source": [
    "model = bmb.Model(\n",
    "    \"med_changes_count ~ Telehealth + SEX_ASSIGNED_AT_BIRTH + AGE_AT_ENCOUNTER_s + \"\n",
    "    \"RACE_ETHNICITY2 + New_Old + Time_since_last_visit_s + meds_count_s + \"\n",
    "    \"egfr_s + PMHX_DM + PMHX_HTN + \"\n",
    "    \"(1 + Telehealth | UCSF_MRN) + (1 | ENCOUNTER_NOTE_AUTHOR)\",\n",
    "    model_df,\n",
    "    family=\"negativebinomial\"\n",
    ")\n",
    "\n",
    "results = model.fit(draws=1000, chains=4)\n",
    "az.summary(results)"
   ]
  },
  {
   "cell_type": "code",
   "execution_count": 3,
   "id": "bf280982-7b67-4e34-ac89-5a86d8b3cc55",
   "metadata": {},
   "outputs": [
    {
     "ename": "CalledProcessError",
     "evalue": "Command '('C:\\\\Program Files\\\\R\\\\R-4.4.3\\\\bin\\\\x64\\\\R', 'CMD', 'config', '--ldflags')' returned non-zero exit status 1.",
     "output_type": "error",
     "traceback": [
      "\u001b[1;31m---------------------------------------------------------------------------\u001b[0m",
      "\u001b[1;31mCalledProcessError\u001b[0m                        Traceback (most recent call last)",
      "Cell \u001b[1;32mIn[3], line 1\u001b[0m\n\u001b[1;32m----> 1\u001b[0m \u001b[38;5;28;01mimport\u001b[39;00m \u001b[38;5;21;01mrpy2\u001b[39;00m\u001b[38;5;21;01m.\u001b[39;00m\u001b[38;5;21;01mrobjects\u001b[39;00m \u001b[38;5;28;01mas\u001b[39;00m \u001b[38;5;21;01mro\u001b[39;00m\n\u001b[0;32m      2\u001b[0m \u001b[38;5;28;01mfrom\u001b[39;00m \u001b[38;5;21;01mrpy2\u001b[39;00m\u001b[38;5;21;01m.\u001b[39;00m\u001b[38;5;21;01mrobjects\u001b[39;00m \u001b[38;5;28;01mimport\u001b[39;00m pandas2ri\n\u001b[0;32m      4\u001b[0m pandas2ri\u001b[38;5;241m.\u001b[39mactivate()\n",
      "File \u001b[1;32m~\\anaconda3\\lib\\site-packages\\rpy2\\robjects\\__init__.py:17\u001b[0m\n\u001b[0;32m     15\u001b[0m \u001b[38;5;28;01mimport\u001b[39;00m \u001b[38;5;21;01mtyping\u001b[39;00m\n\u001b[0;32m     16\u001b[0m \u001b[38;5;28;01mimport\u001b[39;00m \u001b[38;5;21;01mwarnings\u001b[39;00m\n\u001b[1;32m---> 17\u001b[0m \u001b[38;5;28;01mimport\u001b[39;00m \u001b[38;5;21;01mrpy2\u001b[39;00m\u001b[38;5;21;01m.\u001b[39;00m\u001b[38;5;21;01mrinterface\u001b[39;00m \u001b[38;5;28;01mas\u001b[39;00m \u001b[38;5;21;01mrinterface\u001b[39;00m\n\u001b[0;32m     18\u001b[0m \u001b[38;5;28;01mimport\u001b[39;00m \u001b[38;5;21;01mrpy2\u001b[39;00m\u001b[38;5;21;01m.\u001b[39;00m\u001b[38;5;21;01mrinterface_lib\u001b[39;00m\u001b[38;5;21;01m.\u001b[39;00m\u001b[38;5;21;01membedded\u001b[39;00m\n\u001b[0;32m     19\u001b[0m \u001b[38;5;28;01mimport\u001b[39;00m \u001b[38;5;21;01mrpy2\u001b[39;00m\u001b[38;5;21;01m.\u001b[39;00m\u001b[38;5;21;01mrinterface_lib\u001b[39;00m\u001b[38;5;21;01m.\u001b[39;00m\u001b[38;5;21;01mopenrlib\u001b[39;00m\n",
      "File \u001b[1;32m~\\anaconda3\\lib\\site-packages\\rpy2\\rinterface\\__init__.py:22\u001b[0m\n\u001b[0;32m     20\u001b[0m \u001b[38;5;28;01mimport\u001b[39;00m \u001b[38;5;21;01mwarnings\u001b[39;00m\n\u001b[0;32m     21\u001b[0m \u001b[38;5;28;01mfrom\u001b[39;00m \u001b[38;5;21;01mtyping\u001b[39;00m \u001b[38;5;28;01mimport\u001b[39;00m Union\n\u001b[1;32m---> 22\u001b[0m \u001b[38;5;28;01mfrom\u001b[39;00m \u001b[38;5;21;01mrpy2\u001b[39;00m\u001b[38;5;21;01m.\u001b[39;00m\u001b[38;5;21;01mrinterface_lib\u001b[39;00m \u001b[38;5;28;01mimport\u001b[39;00m openrlib\n\u001b[0;32m     23\u001b[0m \u001b[38;5;28;01mimport\u001b[39;00m \u001b[38;5;21;01mrpy2\u001b[39;00m\u001b[38;5;21;01m.\u001b[39;00m\u001b[38;5;21;01mrinterface_lib\u001b[39;00m\u001b[38;5;21;01m.\u001b[39;00m\u001b[38;5;21;01m_rinterface_capi\u001b[39;00m \u001b[38;5;28;01mas\u001b[39;00m \u001b[38;5;21;01m_rinterface\u001b[39;00m\n\u001b[0;32m     24\u001b[0m \u001b[38;5;28;01mimport\u001b[39;00m \u001b[38;5;21;01mrpy2\u001b[39;00m\u001b[38;5;21;01m.\u001b[39;00m\u001b[38;5;21;01mrinterface_lib\u001b[39;00m\u001b[38;5;21;01m.\u001b[39;00m\u001b[38;5;21;01membedded\u001b[39;00m \u001b[38;5;28;01mas\u001b[39;00m \u001b[38;5;21;01membedded\u001b[39;00m\n",
      "File \u001b[1;32m~\\anaconda3\\lib\\site-packages\\rpy2\\rinterface_lib\\openrlib.py:19\u001b[0m\n\u001b[0;32m     17\u001b[0m \u001b[38;5;28;01mif\u001b[39;00m os\u001b[38;5;241m.\u001b[39mname \u001b[38;5;241m==\u001b[39m \u001b[38;5;124m'\u001b[39m\u001b[38;5;124mnt\u001b[39m\u001b[38;5;124m'\u001b[39m:\n\u001b[0;32m     18\u001b[0m     \u001b[38;5;28;01mif\u001b[39;00m R_HOME \u001b[38;5;129;01mis\u001b[39;00m \u001b[38;5;129;01mnot\u001b[39;00m \u001b[38;5;28;01mNone\u001b[39;00m:\n\u001b[1;32m---> 19\u001b[0m         \u001b[38;5;28;01mfor\u001b[39;00m libpath \u001b[38;5;129;01min\u001b[39;00m \u001b[43mrpy2\u001b[49m\u001b[38;5;241;43m.\u001b[39;49m\u001b[43msituation\u001b[49m\u001b[38;5;241;43m.\u001b[39;49m\u001b[43mget_r_flags\u001b[49m\u001b[43m(\u001b[49m\u001b[43mR_HOME\u001b[49m\u001b[43m,\u001b[49m\u001b[43m \u001b[49m\u001b[38;5;124;43m'\u001b[39;49m\u001b[38;5;124;43m--ldflags\u001b[39;49m\u001b[38;5;124;43m'\u001b[39;49m\u001b[43m)\u001b[49m[\u001b[38;5;241m0\u001b[39m]\u001b[38;5;241m.\u001b[39mL:\n\u001b[0;32m     20\u001b[0m             os\u001b[38;5;241m.\u001b[39madd_dll_directory(libpath)  \u001b[38;5;66;03m# type: ignore[attr-defined]\u001b[39;00m\n\u001b[0;32m     21\u001b[0m     \u001b[38;5;28;01melse\u001b[39;00m:\n",
      "File \u001b[1;32m~\\anaconda3\\lib\\site-packages\\rpy2\\situation\\__init__.py:286\u001b[0m, in \u001b[0;36mget_r_flags\u001b[1;34m(r_home, flags)\u001b[0m\n\u001b[0;32m    281\u001b[0m parser\u001b[38;5;241m.\u001b[39madd_argument(\u001b[38;5;124m'\u001b[39m\u001b[38;5;124m-L\u001b[39m\u001b[38;5;124m'\u001b[39m, action\u001b[38;5;241m=\u001b[39m\u001b[38;5;124m'\u001b[39m\u001b[38;5;124mappend\u001b[39m\u001b[38;5;124m'\u001b[39m)\n\u001b[0;32m    282\u001b[0m parser\u001b[38;5;241m.\u001b[39madd_argument(\u001b[38;5;124m'\u001b[39m\u001b[38;5;124m-l\u001b[39m\u001b[38;5;124m'\u001b[39m, action\u001b[38;5;241m=\u001b[39m\u001b[38;5;124m'\u001b[39m\u001b[38;5;124mappend\u001b[39m\u001b[38;5;124m'\u001b[39m)\n\u001b[0;32m    284\u001b[0m res \u001b[38;5;241m=\u001b[39m shlex\u001b[38;5;241m.\u001b[39msplit(\n\u001b[0;32m    285\u001b[0m     \u001b[38;5;124m'\u001b[39m\u001b[38;5;124m \u001b[39m\u001b[38;5;124m'\u001b[39m\u001b[38;5;241m.\u001b[39mjoin(\n\u001b[1;32m--> 286\u001b[0m         \u001b[43m_get_r_cmd_config\u001b[49m\u001b[43m(\u001b[49m\u001b[43mr_home\u001b[49m\u001b[43m,\u001b[49m\u001b[43m \u001b[49m\u001b[43mflags\u001b[49m\u001b[43m,\u001b[49m\n\u001b[0;32m    287\u001b[0m \u001b[43m                          \u001b[49m\u001b[43mallow_empty\u001b[49m\u001b[38;5;241;43m=\u001b[39;49m\u001b[38;5;28;43;01mFalse\u001b[39;49;00m\u001b[43m)\u001b[49m))\n\u001b[0;32m    288\u001b[0m \u001b[38;5;28;01mreturn\u001b[39;00m parser\u001b[38;5;241m.\u001b[39mparse_known_args(res)\n",
      "File \u001b[1;32m~\\anaconda3\\lib\\site-packages\\rpy2\\situation\\__init__.py:246\u001b[0m, in \u001b[0;36m_get_r_cmd_config\u001b[1;34m(r_home, about, allow_empty)\u001b[0m\n\u001b[0;32m    244\u001b[0m cmd \u001b[38;5;241m=\u001b[39m (r_exec, \u001b[38;5;124m'\u001b[39m\u001b[38;5;124mCMD\u001b[39m\u001b[38;5;124m'\u001b[39m, \u001b[38;5;124m'\u001b[39m\u001b[38;5;124mconfig\u001b[39m\u001b[38;5;124m'\u001b[39m, about)\n\u001b[0;32m    245\u001b[0m logger\u001b[38;5;241m.\u001b[39mdebug(\u001b[38;5;124m'\u001b[39m\u001b[38;5;124mLooking for R CONFIG with: \u001b[39m\u001b[38;5;132;01m{}\u001b[39;00m\u001b[38;5;124m'\u001b[39m\u001b[38;5;241m.\u001b[39mformat(\u001b[38;5;124m'\u001b[39m\u001b[38;5;124m \u001b[39m\u001b[38;5;124m'\u001b[39m\u001b[38;5;241m.\u001b[39mjoin(cmd)))\n\u001b[1;32m--> 246\u001b[0m output \u001b[38;5;241m=\u001b[39m \u001b[43msubprocess\u001b[49m\u001b[38;5;241;43m.\u001b[39;49m\u001b[43mcheck_output\u001b[49m\u001b[43m(\u001b[49m\n\u001b[0;32m    247\u001b[0m \u001b[43m    \u001b[49m\u001b[43mcmd\u001b[49m\u001b[43m,\u001b[49m\n\u001b[0;32m    248\u001b[0m \u001b[43m    \u001b[49m\u001b[43muniversal_newlines\u001b[49m\u001b[38;5;241;43m=\u001b[39;49m\u001b[38;5;28;43;01mTrue\u001b[39;49;00m\n\u001b[0;32m    249\u001b[0m \u001b[43m\u001b[49m\u001b[43m)\u001b[49m\u001b[38;5;241m.\u001b[39msplit(os\u001b[38;5;241m.\u001b[39mlinesep)\n\u001b[0;32m    250\u001b[0m \u001b[38;5;66;03m# Twist if 'R RHOME' spits out a warning\u001b[39;00m\n\u001b[0;32m    251\u001b[0m \u001b[38;5;28;01mif\u001b[39;00m output[\u001b[38;5;241m0\u001b[39m]\u001b[38;5;241m.\u001b[39mstartswith(\u001b[38;5;124m'\u001b[39m\u001b[38;5;124mWARNING\u001b[39m\u001b[38;5;124m'\u001b[39m):\n",
      "File \u001b[1;32m~\\anaconda3\\lib\\subprocess.py:424\u001b[0m, in \u001b[0;36mcheck_output\u001b[1;34m(timeout, *popenargs, **kwargs)\u001b[0m\n\u001b[0;32m    421\u001b[0m         empty \u001b[38;5;241m=\u001b[39m \u001b[38;5;124mb\u001b[39m\u001b[38;5;124m'\u001b[39m\u001b[38;5;124m'\u001b[39m\n\u001b[0;32m    422\u001b[0m     kwargs[\u001b[38;5;124m'\u001b[39m\u001b[38;5;124minput\u001b[39m\u001b[38;5;124m'\u001b[39m] \u001b[38;5;241m=\u001b[39m empty\n\u001b[1;32m--> 424\u001b[0m \u001b[38;5;28;01mreturn\u001b[39;00m run(\u001b[38;5;241m*\u001b[39mpopenargs, stdout\u001b[38;5;241m=\u001b[39mPIPE, timeout\u001b[38;5;241m=\u001b[39mtimeout, check\u001b[38;5;241m=\u001b[39m\u001b[38;5;28;01mTrue\u001b[39;00m,\n\u001b[0;32m    425\u001b[0m            \u001b[38;5;241m*\u001b[39m\u001b[38;5;241m*\u001b[39mkwargs)\u001b[38;5;241m.\u001b[39mstdout\n",
      "File \u001b[1;32m~\\anaconda3\\lib\\subprocess.py:528\u001b[0m, in \u001b[0;36mrun\u001b[1;34m(input, capture_output, timeout, check, *popenargs, **kwargs)\u001b[0m\n\u001b[0;32m    526\u001b[0m     retcode \u001b[38;5;241m=\u001b[39m process\u001b[38;5;241m.\u001b[39mpoll()\n\u001b[0;32m    527\u001b[0m     \u001b[38;5;28;01mif\u001b[39;00m check \u001b[38;5;129;01mand\u001b[39;00m retcode:\n\u001b[1;32m--> 528\u001b[0m         \u001b[38;5;28;01mraise\u001b[39;00m CalledProcessError(retcode, process\u001b[38;5;241m.\u001b[39margs,\n\u001b[0;32m    529\u001b[0m                                  output\u001b[38;5;241m=\u001b[39mstdout, stderr\u001b[38;5;241m=\u001b[39mstderr)\n\u001b[0;32m    530\u001b[0m \u001b[38;5;28;01mreturn\u001b[39;00m CompletedProcess(process\u001b[38;5;241m.\u001b[39margs, retcode, stdout, stderr)\n",
      "\u001b[1;31mCalledProcessError\u001b[0m: Command '('C:\\\\Program Files\\\\R\\\\R-4.4.3\\\\bin\\\\x64\\\\R', 'CMD', 'config', '--ldflags')' returned non-zero exit status 1."
     ]
    }
   ],
   "source": [
    "import rpy2.robjects as ro\n",
    "from rpy2.robjects import pandas2ri\n",
    "\n",
    "pandas2ri.activate()\n",
    "ro.globalenv[\"main\"] = df  # assuming df is already cleaned\n",
    "\n",
    "ro.r(\"\"\"\n",
    "library(glmmTMB)\n",
    "nb_model_hierarchical <- glmmTMB(\n",
    "  med_changes_count ~ Telehealth + SEX_ASSIGNED_AT_BIRTH + \n",
    "    AGE_AT_ENCOUNTER_s + RACE_ETHNICITY2 + New_Old + \n",
    "    Time_since_last_visit_s + meds_count_s + egfr_s + PMHX_DM + PMHX_HTN +\n",
    "    (1 + Telehealth | UCSF_MRN) +\n",
    "    (1 | ENCOUNTER_NOTE_AUTHOR),\n",
    "  data = main,\n",
    "  family = nbinom2\n",
    ")\n",
    "summary(nb_model_hierarchical)\n",
    "\"\"\")\n"
   ]
  },
  {
   "cell_type": "code",
   "execution_count": 2,
   "id": "c3b426b3-38af-4b27-ba61-7d624c6d089b",
   "metadata": {},
   "outputs": [
    {
     "name": "stdout",
     "output_type": "stream",
     "text": [
      "Collecting rpy2\n",
      "  Downloading rpy2-3.6.1-py3-none-any.whl.metadata (5.4 kB)\n",
      "Collecting rpy2-rinterface>=3.6.1 (from rpy2)\n",
      "  Downloading rpy2_rinterface-3.6.1-cp39-cp39-win_amd64.whl.metadata (2.0 kB)\n",
      "Collecting rpy2-robjects>=3.6.1 (from rpy2)\n",
      "  Downloading rpy2_robjects-3.6.1-py3-none-any.whl.metadata (3.3 kB)\n",
      "Requirement already satisfied: packaging in c:\\users\\kevxs\\anaconda3\\lib\\site-packages (from rpy2) (24.2)\n",
      "Requirement already satisfied: cffi>=1.15.1 in c:\\users\\kevxs\\anaconda3\\lib\\site-packages (from rpy2-rinterface>=3.6.1->rpy2) (1.17.1)\n",
      "Requirement already satisfied: jinja2 in c:\\users\\kevxs\\anaconda3\\lib\\site-packages (from rpy2-robjects>=3.6.1->rpy2) (3.1.5)\n",
      "Collecting tzlocal (from rpy2-robjects>=3.6.1->rpy2)\n",
      "  Downloading tzlocal-5.3.1-py3-none-any.whl.metadata (7.6 kB)\n",
      "Requirement already satisfied: pycparser in c:\\users\\kevxs\\anaconda3\\lib\\site-packages (from cffi>=1.15.1->rpy2-rinterface>=3.6.1->rpy2) (2.21)\n",
      "Requirement already satisfied: MarkupSafe>=2.0 in c:\\users\\kevxs\\anaconda3\\lib\\site-packages (from jinja2->rpy2-robjects>=3.6.1->rpy2) (3.0.2)\n",
      "Requirement already satisfied: tzdata in c:\\users\\kevxs\\anaconda3\\lib\\site-packages (from tzlocal->rpy2-robjects>=3.6.1->rpy2) (2023.3)\n",
      "Downloading rpy2-3.6.1-py3-none-any.whl (9.9 kB)\n",
      "Downloading rpy2_rinterface-3.6.1-cp39-cp39-win_amd64.whl (173 kB)\n",
      "Downloading rpy2_robjects-3.6.1-py3-none-any.whl (125 kB)\n",
      "Downloading tzlocal-5.3.1-py3-none-any.whl (18 kB)\n",
      "Installing collected packages: tzlocal, rpy2-rinterface, rpy2-robjects, rpy2\n",
      "Successfully installed rpy2-3.6.1 rpy2-rinterface-3.6.1 rpy2-robjects-3.6.1 tzlocal-5.3.1\n"
     ]
    }
   ],
   "source": [
    "!pip install rpy2"
   ]
  },
  {
   "cell_type": "code",
   "execution_count": null,
   "id": "33034368-b18d-4e66-8e68-48e8057f266c",
   "metadata": {},
   "outputs": [],
   "source": []
  }
 ],
 "metadata": {
  "kernelspec": {
   "display_name": "Python 3 (ipykernel)",
   "language": "python",
   "name": "python3"
  },
  "language_info": {
   "codemirror_mode": {
    "name": "ipython",
    "version": 3
   },
   "file_extension": ".py",
   "mimetype": "text/x-python",
   "name": "python",
   "nbconvert_exporter": "python",
   "pygments_lexer": "ipython3",
   "version": "3.9.21"
  }
 },
 "nbformat": 4,
 "nbformat_minor": 5
}
